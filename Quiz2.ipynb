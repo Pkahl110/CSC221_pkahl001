{
  "nbformat": 4,
  "nbformat_minor": 0,
  "metadata": {
    "colab": {
      "provenance": [],
      "authorship_tag": "ABX9TyO+viE/8uU6lkF4qe/gXDFf",
      "include_colab_link": true
    },
    "kernelspec": {
      "name": "python3",
      "display_name": "Python 3"
    },
    "language_info": {
      "name": "python"
    }
  },
  "cells": [
    {
      "cell_type": "markdown",
      "metadata": {
        "id": "view-in-github",
        "colab_type": "text"
      },
      "source": [
        "<a href=\"https://colab.research.google.com/github/Pkahl110/CSC221_pkahl001/blob/main/Quiz2.ipynb\" target=\"_parent\"><img src=\"https://colab.research.google.com/assets/colab-badge.svg\" alt=\"Open In Colab\"/></a>"
      ]
    },
    {
      "cell_type": "code",
      "execution_count": 1,
      "metadata": {
        "colab": {
          "base_uri": "https://localhost:8080/"
        },
        "id": "1OduCAEAZnwt",
        "outputId": "d61ae46c-6917-4092-e676-714431bf38ae"
      },
      "outputs": [
        {
          "output_type": "stream",
          "name": "stdout",
          "text": [
            "The value is None.\n",
            "The value is not None. It is: 10\n",
            "The value is not None. It is: Hello\n"
          ]
        }
      ],
      "source": [
        "#None\n",
        "def check_value(value):\n",
        "    if value is None:\n",
        "        print(\"The value is None.\")\n",
        "    else:\n",
        "        print(\"The value is not None. It is:\", value)\n",
        "\n",
        "check_value(None)\n",
        "check_value(10)\n",
        "check_value(\"Hello\")"
      ]
    },
    {
      "cell_type": "code",
      "source": [
        "#Break\n",
        "numbers = [1, 3, 5, 7, 8, 9, 10, 12, 15]\n",
        "\n",
        "for num in numbers:\n",
        "    if num % 2 == 0:\n",
        "        print(\"The first even number in the list is:\", num)\n",
        "        break"
      ],
      "metadata": {
        "colab": {
          "base_uri": "https://localhost:8080/"
        },
        "id": "61-k7jANaoCv",
        "outputId": "dc0a24dc-f92f-486a-f2f0-9917b446b3a0"
      },
      "execution_count": 2,
      "outputs": [
        {
          "output_type": "stream",
          "name": "stdout",
          "text": [
            "The first even number in the list is: 8\n"
          ]
        }
      ]
    },
    {
      "cell_type": "code",
      "source": [
        "#Except\n",
        "try:\n",
        "    num1 = 10\n",
        "    num2 = 0\n",
        "    result = num1 / num2\n",
        "    print(\"Result of division:\", result)  # This line will not be executed if an exception occurs\n",
        "except ZeroDivisionError:\n",
        "    print(\"Error: Division by zero is not allowed.\")"
      ],
      "metadata": {
        "colab": {
          "base_uri": "https://localhost:8080/"
        },
        "id": "qjK8DzePbTVk",
        "outputId": "e505808c-92b2-48ce-d1ad-cdfd02a632f2"
      },
      "execution_count": 3,
      "outputs": [
        {
          "output_type": "stream",
          "name": "stdout",
          "text": [
            "Error: Division by zero is not allowed.\n"
          ]
        }
      ]
    },
    {
      "cell_type": "code",
      "source": [
        "#in\n",
        "fruits = [\"apple\", \"banana\", \"orange\", \"grape\", \"kiwi\"]\n",
        "\n",
        "if \"banana\" in fruits:\n",
        "    print(\"Yes, banana is in the list of fruits.\")\n",
        "\n",
        "if \"pear\" not in fruits:\n",
        "    print(\"No, pear is not in the list of fruits.\")"
      ],
      "metadata": {
        "colab": {
          "base_uri": "https://localhost:8080/"
        },
        "id": "htKn0X8Mbikr",
        "outputId": "cdb5d32c-f545-4c02-8636-89e760fb1747"
      },
      "execution_count": 4,
      "outputs": [
        {
          "output_type": "stream",
          "name": "stdout",
          "text": [
            "Yes, banana is in the list of fruits.\n",
            "No, pear is not in the list of fruits.\n"
          ]
        }
      ]
    },
    {
      "cell_type": "code",
      "source": [
        "#raise\n",
        "def validate_age(age):\n",
        "    if age < 0:\n",
        "        raise ValueError(\"Age cannot be negative.\")\n",
        "    elif age < 18:\n",
        "        raise ValueError(\"You must be at least 18 years old.\")\n",
        "\n",
        "try:\n",
        "    validate_age(25)\n",
        "    print(\"Age is valid.\")\n",
        "except ValueError as e:\n",
        "    print(\"Error:\", e)\n",
        "\n",
        "try:\n",
        "    validate_age(-5)\n",
        "    print(\"Age is valid.\")\n",
        "except ValueError as e:\n",
        "    print(\"Error:\", e)\n",
        "\n",
        "try:\n",
        "    validate_age(15)\n",
        "    print(\"Age is valid.\")\n",
        "except ValueError as e:\n",
        "    print(\"Error:\", e)"
      ],
      "metadata": {
        "colab": {
          "base_uri": "https://localhost:8080/"
        },
        "id": "ufnPUbC8b4Wq",
        "outputId": "4dc23d39-1907-412a-fa7a-bd5aac7f5e6b"
      },
      "execution_count": 5,
      "outputs": [
        {
          "output_type": "stream",
          "name": "stdout",
          "text": [
            "Age is valid.\n",
            "Error: Age cannot be negative.\n",
            "Error: You must be at least 18 years old.\n"
          ]
        }
      ]
    },
    {
      "cell_type": "code",
      "source": [
        "#False\n",
        "is_raining = False\n",
        "\n",
        "if is_raining:\n",
        "    print(\"You need an umbrella.\")\n",
        "else:\n",
        "    print(\"No need for an umbrella\")"
      ],
      "metadata": {
        "colab": {
          "base_uri": "https://localhost:8080/"
        },
        "id": "d1WjhB2FdAsM",
        "outputId": "b4f3a245-e556-42a3-8db5-c484b0543748"
      },
      "execution_count": 6,
      "outputs": [
        {
          "output_type": "stream",
          "name": "stdout",
          "text": [
            "No need for an umbrella, enjoy the sunshine!\n"
          ]
        }
      ]
    },
    {
      "cell_type": "code",
      "source": [
        "#await\n",
        "import time\n",
        "\n",
        "async def async_task():\n",
        "    print(\"Async task started.\")\n",
        "    await custom_sleep(2)  # Simulate a long-running asynchronous operation\n",
        "    print(\"Async task completed.\")\n",
        "\n",
        "async def custom_sleep(seconds):\n",
        "    start_time = time.time()\n",
        "    while time.time() - start_time < seconds:\n",
        "        await asyncio.sleep(0)  # Yield control back to the event loop\n",
        "\n",
        "async def main():\n",
        "    print(\"Main function started.\")\n",
        "    await async_task()  # Wait for the asynchronous task to complete\n",
        "    print(\"Main function completed.\")\n",
        "\n",
        "# Run the main asynchronous program\n",
        "await main()"
      ],
      "metadata": {
        "colab": {
          "base_uri": "https://localhost:8080/"
        },
        "id": "WHPgentndndU",
        "outputId": "4c654ba4-6c19-414f-fae5-b51c6a719b96"
      },
      "execution_count": 8,
      "outputs": [
        {
          "output_type": "stream",
          "name": "stdout",
          "text": [
            "Main function started.\n",
            "Async task started.\n",
            "Async task completed.\n",
            "Main function completed.\n"
          ]
        }
      ]
    },
    {
      "cell_type": "code",
      "source": [
        "#else\n",
        "x = 5\n",
        "\n",
        "if x > 10:\n",
        "    print(\"x is greater than 10.\")\n",
        "else:\n",
        "    print(\"x is not greater than 10.\")\n",
        "\n",
        "# Example of using else with a loop\n",
        "\n",
        "numbers = [1, 3, 5, 7, 9]\n",
        "\n",
        "for num in numbers:\n",
        "    if num % 2 == 0:\n",
        "        print(num, \"is even.\")\n",
        "    else:\n",
        "        print(num, \"is odd.\")"
      ],
      "metadata": {
        "colab": {
          "base_uri": "https://localhost:8080/"
        },
        "id": "UAJKizweePx6",
        "outputId": "eee74b5d-2bff-4760-e030-aecc2d213501"
      },
      "execution_count": 9,
      "outputs": [
        {
          "output_type": "stream",
          "name": "stdout",
          "text": [
            "x is not greater than 10.\n",
            "1 is odd.\n",
            "3 is odd.\n",
            "5 is odd.\n",
            "7 is odd.\n",
            "9 is odd.\n"
          ]
        }
      ]
    },
    {
      "cell_type": "code",
      "source": [
        "#import\n",
        "import math\n",
        "\n",
        "print(\"Square root of 25:\", math.sqrt(25))\n",
        "print(\"Value of pi:\", math.pi)\n",
        "print(\"Sine of 90 degrees:\", math.sin(math.radians(90)))"
      ],
      "metadata": {
        "colab": {
          "base_uri": "https://localhost:8080/"
        },
        "id": "hXfjTQR4edJz",
        "outputId": "9c36779a-01d4-40fd-e379-d97e73ed122f"
      },
      "execution_count": 10,
      "outputs": [
        {
          "output_type": "stream",
          "name": "stdout",
          "text": [
            "Square root of 25: 5.0\n",
            "Value of pi: 3.141592653589793\n",
            "Sine of 90 degrees: 1.0\n"
          ]
        }
      ]
    },
    {
      "cell_type": "code",
      "source": [
        "#pass\n",
        "x = 10\n",
        "\n",
        "if x > 5:\n",
        "    print(\"x is greater than 5.\")\n",
        "else:\n",
        "    pass\n",
        "\n",
        "\n",
        "def my_function():\n",
        "    pass\n",
        "\n",
        "\n",
        "for i in range(5):\n",
        "    pass\n",
        "\n",
        "print(\"End of program.\")"
      ],
      "metadata": {
        "colab": {
          "base_uri": "https://localhost:8080/"
        },
        "id": "zhSC9MajfwAU",
        "outputId": "15c46144-863b-41fa-c2c2-6fdb03a2dde5"
      },
      "execution_count": 11,
      "outputs": [
        {
          "output_type": "stream",
          "name": "stdout",
          "text": [
            "x is greater than 5.\n",
            "End of program.\n"
          ]
        }
      ]
    },
    {
      "cell_type": "code",
      "source": [
        "#and\n",
        "x = 10\n",
        "y = 5\n",
        "\n",
        "if x > 5 and y < 10:\n",
        "    print(\"Both conditions are true.\")\n",
        "else:\n",
        "    print(\"At least one condition is false.\")\n",
        "\n",
        "is_sunny = True\n",
        "is_warm = True\n",
        "\n",
        "if is_sunny and is_warm:\n",
        "    print(\"It's sunny and warm outside.\")\n",
        "else:\n",
        "    print(\"The weather is not sunny and warm.\")"
      ],
      "metadata": {
        "colab": {
          "base_uri": "https://localhost:8080/"
        },
        "id": "hb0W_wcyf7yl",
        "outputId": "2cb74710-3483-4a0c-a1c5-2a28d3142062"
      },
      "execution_count": 12,
      "outputs": [
        {
          "output_type": "stream",
          "name": "stdout",
          "text": [
            "Both conditions are true.\n",
            "It's sunny and warm outside.\n"
          ]
        }
      ]
    },
    {
      "cell_type": "code",
      "source": [
        "#Continue\n",
        "numbers = [1, 2, 3, 4, 5, 6, 7, 8, 9, 10]\n",
        "\n",
        "for num in numbers:\n",
        "    if num % 2 == 0:\n",
        "        continue\n",
        "    print(num)"
      ],
      "metadata": {
        "colab": {
          "base_uri": "https://localhost:8080/"
        },
        "id": "eFGffVMPgPt8",
        "outputId": "6abe59d4-c21a-4e70-b52c-b551705b5166"
      },
      "execution_count": 13,
      "outputs": [
        {
          "output_type": "stream",
          "name": "stdout",
          "text": [
            "1\n",
            "3\n",
            "5\n",
            "7\n",
            "9\n"
          ]
        }
      ]
    },
    {
      "cell_type": "code",
      "source": [
        "#for\n",
        "fruits = [\"apple\", \"banana\", \"cherry\"]\n",
        "\n",
        "for fruit in fruits:\n",
        "    print(fruit)\n"
      ],
      "metadata": {
        "colab": {
          "base_uri": "https://localhost:8080/"
        },
        "id": "zbP42f2jggYO",
        "outputId": "be133740-5464-4183-e23f-4efbeed32bd4"
      },
      "execution_count": 14,
      "outputs": [
        {
          "output_type": "stream",
          "name": "stdout",
          "text": [
            "apple\n",
            "banana\n",
            "cherry\n"
          ]
        }
      ]
    },
    {
      "cell_type": "code",
      "source": [
        "#lambda\n",
        "def add(x, y):\n",
        "    return x + y\n",
        "\n",
        "print(\"Result of add function:\", add(3, 5))\n",
        "\n",
        "add_lambda = lambda x, y: x + y\n",
        "\n",
        "print(\"Result of add lambda function:\", add_lambda(3, 5))"
      ],
      "metadata": {
        "colab": {
          "base_uri": "https://localhost:8080/"
        },
        "id": "E6kQrI86hL-s",
        "outputId": "2ebd7db6-a1ca-48a7-d672-61de2c602a5a"
      },
      "execution_count": 15,
      "outputs": [
        {
          "output_type": "stream",
          "name": "stdout",
          "text": [
            "Result of add function: 8\n",
            "Result of add lambda function: 8\n"
          ]
        }
      ]
    },
    {
      "cell_type": "code",
      "source": [
        "#try\n",
        "try:\n",
        "    num1 = int(input(\"Enter a number: \"))\n",
        "    num2 = int(input(\"Enter another number: \"))\n",
        "    result = num1 / num2\n",
        "    print(\"Result of division:\", result)\n",
        "except ZeroDivisionError:\n",
        "    print(\"Error: Division by zero is not allowed.\")\n",
        "except ValueError:\n",
        "    print(\"Error: Please enter valid integers.\")\n",
        "except Exception as e:\n",
        "    print(\"An unexpected error occurred:\", e)"
      ],
      "metadata": {
        "colab": {
          "base_uri": "https://localhost:8080/"
        },
        "id": "JMA8xSnHh-VT",
        "outputId": "686a04b3-75bf-4e7c-d94c-0a3dd61fd3dc"
      },
      "execution_count": 16,
      "outputs": [
        {
          "output_type": "stream",
          "name": "stdout",
          "text": [
            "Enter a number: 6\n",
            "Enter another number: 6\n",
            "Result of division: 1.0\n"
          ]
        }
      ]
    },
    {
      "cell_type": "code",
      "source": [
        "#True\n",
        "House = True\n",
        "\n",
        "if is_sunny:\n",
        "    print(\"Im in the house.\")\n",
        "else:\n",
        "    print(\"Im not in the house.\")"
      ],
      "metadata": {
        "colab": {
          "base_uri": "https://localhost:8080/"
        },
        "id": "ewHrlfVJiJLI",
        "outputId": "059720d4-591d-4566-d118-9e2fd84f3b77"
      },
      "execution_count": 17,
      "outputs": [
        {
          "output_type": "stream",
          "name": "stdout",
          "text": [
            "Im in the house.\n"
          ]
        }
      ]
    },
    {
      "cell_type": "code",
      "source": [
        "#class\n",
        "class Dog:\n",
        "    def __init__(self, name, age):\n",
        "        self.name = name\n",
        "        self.age = age\n",
        "\n",
        "    def bark(self):\n",
        "        print(f\"{self.name} barks!\")\n",
        "\n",
        "dog1 = Dog(\"Buddy\", 3)\n",
        "dog2 = Dog(\"Max\", 5)\n",
        "\n",
        "print(f\"{dog1.name} is {dog1.age} years old.\")\n",
        "dog1.bark()\n",
        "\n",
        "print(f\"{dog2.name} is {dog2.age} years old.\")\n",
        "dog2.bark()"
      ],
      "metadata": {
        "colab": {
          "base_uri": "https://localhost:8080/"
        },
        "id": "TQw-GoZhjFQn",
        "outputId": "90f5ab68-bf50-4493-870b-f83de9b9fade"
      },
      "execution_count": 18,
      "outputs": [
        {
          "output_type": "stream",
          "name": "stdout",
          "text": [
            "Buddy is 3 years old.\n",
            "Buddy barks!\n",
            "Max is 5 years old.\n",
            "Max barks!\n"
          ]
        }
      ]
    },
    {
      "cell_type": "code",
      "source": [
        "#Finally\n",
        "try:\n",
        "    num1 = int(input(\"Enter a number: \"))\n",
        "    num2 = int(input(\"Enter another number: \"))\n",
        "    result = num1 / num2\n",
        "    print(\"Result of division:\", result)\n",
        "except ZeroDivisionError:\n",
        "    print(\"Error: Division by zero is not allowed.\")\n",
        "except ValueError:\n",
        "    print(\"Error: Please enter valid integers.\")\n",
        "finally:\n",
        "    print(\"This block will always execute, regardless of exceptions.\")"
      ],
      "metadata": {
        "colab": {
          "base_uri": "https://localhost:8080/"
        },
        "id": "3LZju2K6jRDh",
        "outputId": "6bc35b2a-a4f7-4a1e-a823-ed09b82af6a1"
      },
      "execution_count": 19,
      "outputs": [
        {
          "output_type": "stream",
          "name": "stdout",
          "text": [
            "Enter a number: 6\n",
            "Enter another number: 6\n",
            "Result of division: 1.0\n",
            "This block will always execute, regardless of exceptions.\n"
          ]
        }
      ]
    },
    {
      "cell_type": "code",
      "source": [
        "#is\n",
        "list1 = [1, 2, 3]\n",
        "list2 = [1, 2, 3]\n",
        "\n",
        "if list1 is list2:\n",
        "    print(\"list1 and list2 are the same object.\")\n",
        "else:\n",
        "    print(\"list1 and list2 are different objects.\")\n",
        "\n",
        "list1 = list2\n",
        "\n",
        "if list1 is list2:\n",
        "    print(\"Now, list1 and list2 are the same object.\")\n",
        "else:\n",
        "    print(\"Now, list1 and list2 are different objects.\")"
      ],
      "metadata": {
        "colab": {
          "base_uri": "https://localhost:8080/"
        },
        "id": "7z6OPOHnkxIw",
        "outputId": "e357dfbd-de93-4c36-ca9a-5cfe43ae7376"
      },
      "execution_count": 20,
      "outputs": [
        {
          "output_type": "stream",
          "name": "stdout",
          "text": [
            "list1 and list2 are different objects.\n",
            "Now, list1 and list2 are the same object.\n"
          ]
        }
      ]
    },
    {
      "cell_type": "code",
      "source": [
        "#return\n",
        "def add(x, y):\n",
        "    result = x + y\n",
        "    return result\n",
        "\n",
        "sum_result = add(3, 5)\n",
        "\n",
        "print(\"The sum is:\", sum_result)"
      ],
      "metadata": {
        "colab": {
          "base_uri": "https://localhost:8080/"
        },
        "id": "fTPMU1QclCXm",
        "outputId": "a9d7d19b-f75d-4b3d-ffaf-31e1fc3dda66"
      },
      "execution_count": 21,
      "outputs": [
        {
          "output_type": "stream",
          "name": "stdout",
          "text": [
            "The sum is: 8\n"
          ]
        }
      ]
    },
    {
      "cell_type": "code",
      "source": [
        "#as\n",
        "import math as main\n",
        "\n",
        "print(\"Square root of 25:\", math.sqrt(25))"
      ],
      "metadata": {
        "colab": {
          "base_uri": "https://localhost:8080/"
        },
        "id": "vmnV3j9blRtL",
        "outputId": "d3217979-550d-4f89-de7e-04207e75360b"
      },
      "execution_count": 23,
      "outputs": [
        {
          "output_type": "stream",
          "name": "stdout",
          "text": [
            "Square root of 25: 5.0\n"
          ]
        }
      ]
    },
    {
      "cell_type": "code",
      "source": [
        "#def\n",
        "def greet(name):\n",
        "\n",
        "    print(\"Hello,\", name)\n",
        "\n",
        "greet(\"Paul\")"
      ],
      "metadata": {
        "colab": {
          "base_uri": "https://localhost:8080/"
        },
        "id": "b_RtSlYWlkOl",
        "outputId": "8e475564-f8f2-4f2a-a776-7b65a9cde656"
      },
      "execution_count": 24,
      "outputs": [
        {
          "output_type": "stream",
          "name": "stdout",
          "text": [
            "Hello, Alice\n"
          ]
        }
      ]
    },
    {
      "cell_type": "code",
      "source": [
        "#from\n",
        "from math import sqrt\n",
        "\n",
        "print(\"Square root of 25:\", sqrt(25))"
      ],
      "metadata": {
        "colab": {
          "base_uri": "https://localhost:8080/"
        },
        "id": "IIq7_VMkmBMx",
        "outputId": "a873aef2-710e-4753-d8c1-d476e5bab04f"
      },
      "execution_count": 25,
      "outputs": [
        {
          "output_type": "stream",
          "name": "stdout",
          "text": [
            "Square root of 25: 5.0\n"
          ]
        }
      ]
    },
    {
      "cell_type": "code",
      "source": [
        "#nonlocal\n",
        "def outer_function():\n",
        "    x = 10\n",
        "\n",
        "    def inner_function():\n",
        "        nonlocal x\n",
        "        x = 20\n",
        "\n",
        "    inner_function()\n",
        "    print(\"Value of x after modification in the outer scope:\", x)\n",
        "\n",
        "outer_function()"
      ],
      "metadata": {
        "colab": {
          "base_uri": "https://localhost:8080/"
        },
        "id": "Phuk3QcVmr9x",
        "outputId": "66b5f9b6-6fcd-440c-8b3f-fe6cf0f89572"
      },
      "execution_count": 26,
      "outputs": [
        {
          "output_type": "stream",
          "name": "stdout",
          "text": [
            "Value of x after modification in the outer scope: 20\n"
          ]
        }
      ]
    },
    {
      "cell_type": "code",
      "source": [
        "#while\n",
        "count = 0\n",
        "\n",
        "while count < 5:\n",
        "    print(\"Count:\", count)\n",
        "    count += 1\n",
        "\n",
        "print(\"Loop finished.\")"
      ],
      "metadata": {
        "colab": {
          "base_uri": "https://localhost:8080/"
        },
        "id": "1e1ILzuYnbEP",
        "outputId": "09b1d6ba-82fe-4f29-e27d-98e47e0b996c"
      },
      "execution_count": 27,
      "outputs": [
        {
          "output_type": "stream",
          "name": "stdout",
          "text": [
            "Count: 0\n",
            "Count: 1\n",
            "Count: 2\n",
            "Count: 3\n",
            "Count: 4\n",
            "Loop finished.\n"
          ]
        }
      ]
    },
    {
      "cell_type": "code",
      "source": [
        "#elif\n",
        "x = 10\n",
        "\n",
        "if x > 10:\n",
        "    print(\"x is greater than 10.\")\n",
        "elif x == 10:\n",
        "    print(\"x is equal to 10.\")\n",
        "else:\n",
        "    print(\"x is less than 10.\")"
      ],
      "metadata": {
        "colab": {
          "base_uri": "https://localhost:8080/"
        },
        "id": "Vtnwa-DHnyAr",
        "outputId": "20fdf418-aa17-48b1-90ab-d314f790cbd3"
      },
      "execution_count": 30,
      "outputs": [
        {
          "output_type": "stream",
          "name": "stdout",
          "text": [
            "x is equal to 10.\n"
          ]
        }
      ]
    },
    {
      "cell_type": "code",
      "source": [
        "#if\n",
        "x = 10\n",
        "\n",
        "if x > 5:\n",
        "    print(\"x is greater than 5.\")"
      ],
      "metadata": {
        "colab": {
          "base_uri": "https://localhost:8080/"
        },
        "id": "X_BztN9Tofvb",
        "outputId": "7e6d26b3-2386-41ca-a2a2-2b8bcb18110d"
      },
      "execution_count": 31,
      "outputs": [
        {
          "output_type": "stream",
          "name": "stdout",
          "text": [
            "x is greater than 5.\n"
          ]
        }
      ]
    },
    {
      "cell_type": "code",
      "source": [
        "#not\n",
        "number = True\n",
        "\n",
        "if not number:\n",
        "    print(\"It's not the number 10.\")\n",
        "else:\n",
        "    print(\"It's the number 10.\")"
      ],
      "metadata": {
        "colab": {
          "base_uri": "https://localhost:8080/"
        },
        "id": "wQSsFc8MpMuC",
        "outputId": "64597824-2f49-4588-a9aa-fcdd6dc109e2"
      },
      "execution_count": 34,
      "outputs": [
        {
          "output_type": "stream",
          "name": "stdout",
          "text": [
            "It's the number 10.\n"
          ]
        }
      ]
    },
    {
      "cell_type": "code",
      "source": [
        "#with\n",
        "with open(\"example.txt\", \"r\") as file:\n",
        "    # Read the contents of the file\n",
        "    contents = file.read()\n",
        "    # Print the contents\n",
        "    print(\"Contents of the file:\")\n",
        "    print(contents)"
      ],
      "metadata": {
        "colab": {
          "base_uri": "https://localhost:8080/",
          "height": 211
        },
        "id": "M3Xwn5XqqFv9",
        "outputId": "31fbb750-e811-497d-f6ab-76583c131519"
      },
      "execution_count": 35,
      "outputs": [
        {
          "output_type": "error",
          "ename": "FileNotFoundError",
          "evalue": "[Errno 2] No such file or directory: 'example.txt'",
          "traceback": [
            "\u001b[0;31m---------------------------------------------------------------------------\u001b[0m",
            "\u001b[0;31mFileNotFoundError\u001b[0m                         Traceback (most recent call last)",
            "\u001b[0;32m<ipython-input-35-e82a5ed88e31>\u001b[0m in \u001b[0;36m<cell line: 2>\u001b[0;34m()\u001b[0m\n\u001b[1;32m      1\u001b[0m \u001b[0;31m#with\u001b[0m\u001b[0;34m\u001b[0m\u001b[0;34m\u001b[0m\u001b[0m\n\u001b[0;32m----> 2\u001b[0;31m \u001b[0;32mwith\u001b[0m \u001b[0mopen\u001b[0m\u001b[0;34m(\u001b[0m\u001b[0;34m\"example.txt\"\u001b[0m\u001b[0;34m,\u001b[0m \u001b[0;34m\"r\"\u001b[0m\u001b[0;34m)\u001b[0m \u001b[0;32mas\u001b[0m \u001b[0mfile\u001b[0m\u001b[0;34m:\u001b[0m\u001b[0;34m\u001b[0m\u001b[0;34m\u001b[0m\u001b[0m\n\u001b[0m\u001b[1;32m      3\u001b[0m     \u001b[0;31m# Read the contents of the file\u001b[0m\u001b[0;34m\u001b[0m\u001b[0;34m\u001b[0m\u001b[0m\n\u001b[1;32m      4\u001b[0m     \u001b[0mcontents\u001b[0m \u001b[0;34m=\u001b[0m \u001b[0mfile\u001b[0m\u001b[0;34m.\u001b[0m\u001b[0mread\u001b[0m\u001b[0;34m(\u001b[0m\u001b[0;34m)\u001b[0m\u001b[0;34m\u001b[0m\u001b[0;34m\u001b[0m\u001b[0m\n\u001b[1;32m      5\u001b[0m     \u001b[0;31m# Print the contents\u001b[0m\u001b[0;34m\u001b[0m\u001b[0;34m\u001b[0m\u001b[0m\n",
            "\u001b[0;31mFileNotFoundError\u001b[0m: [Errno 2] No such file or directory: 'example.txt'"
          ]
        }
      ]
    },
    {
      "cell_type": "code",
      "source": [
        "#assert\n",
        "def divide(x, y):\n",
        "    assert y != 0, \"Division by zero is not allowed.\"\n",
        "    return x / y\n",
        "\n",
        "result = divide(10, 2)\n",
        "print(\"Result of division:\", result)\n",
        "\n",
        "try:\n",
        "    divide(10, 0)\n",
        "except AssertionError as e:\n",
        "    print(\"Error:\", e)"
      ],
      "metadata": {
        "colab": {
          "base_uri": "https://localhost:8080/"
        },
        "id": "jpJlGppNqaVy",
        "outputId": "70d37a88-79dd-466f-bf02-f92bd5e10a30"
      },
      "execution_count": 36,
      "outputs": [
        {
          "output_type": "stream",
          "name": "stdout",
          "text": [
            "Result of division: 5.0\n",
            "Error: Division by zero is not allowed.\n"
          ]
        }
      ]
    },
    {
      "cell_type": "code",
      "source": [
        "#del\n",
        "my_list = [1, 2, 3, 4, 5]\n",
        "\n",
        "del my_list[2]\n",
        "\n",
        "print(\"List after deleting the third element:\", my_list)\n"
      ],
      "metadata": {
        "colab": {
          "base_uri": "https://localhost:8080/"
        },
        "id": "2rcQQ9mUqtA6",
        "outputId": "3bd0bb8c-e2e7-4184-df6b-81cf3c632d91"
      },
      "execution_count": 41,
      "outputs": [
        {
          "output_type": "stream",
          "name": "stdout",
          "text": [
            "List after deleting the third element: [1, 2, 4, 5]\n"
          ]
        }
      ]
    },
    {
      "cell_type": "code",
      "source": [
        "#global\n",
        "global_var = 10\n",
        "\n",
        "def modify_global():\n",
        "    global global_var\n",
        "    global_var = 20\n",
        "\n",
        "print(\"Initial value of global_var:\", global_var)\n",
        "\n",
        "modify_global()\n",
        "\n",
        "print(\"Modified value of global_var:\", global_var)"
      ],
      "metadata": {
        "colab": {
          "base_uri": "https://localhost:8080/"
        },
        "id": "oN5gqvHisOKe",
        "outputId": "5a554aee-f4de-4bb7-eca3-d942bcb123eb"
      },
      "execution_count": 42,
      "outputs": [
        {
          "output_type": "stream",
          "name": "stdout",
          "text": [
            "Initial value of global_var: 10\n",
            "Modified value of global_var: 20\n"
          ]
        }
      ]
    },
    {
      "cell_type": "code",
      "source": [
        "#or\n",
        "x = 5\n",
        "\n",
        "if x < 0 or x > 10:\n",
        "    print(\"x is outside the range [0, 10].\")\n",
        "else:\n",
        "    print(\"x is within the range [0, 10].\")"
      ],
      "metadata": {
        "colab": {
          "base_uri": "https://localhost:8080/"
        },
        "id": "yOVNqZ40shxK",
        "outputId": "e65c2784-8f31-498a-fc62-ab677d9cf4d5"
      },
      "execution_count": 43,
      "outputs": [
        {
          "output_type": "stream",
          "name": "stdout",
          "text": [
            "x is within the range [0, 10].\n"
          ]
        }
      ]
    },
    {
      "cell_type": "code",
      "source": [
        "def fibonacci():\n",
        "    a, b = 0, 1\n",
        "    while True:\n",
        "        yield a\n",
        "        a, b = b, a + b\n",
        "\n",
        "fib_gen = fibonacci()\n",
        "\n",
        "print(\"First 10 Fibonacci numbers:\")\n",
        "for _ in range(10):\n",
        "    print(next(fib_gen), end=\" \")"
      ],
      "metadata": {
        "colab": {
          "base_uri": "https://localhost:8080/"
        },
        "id": "PY_M3pOWtDjA",
        "outputId": "87ae1ef8-5ba0-405f-8631-1269cd1b25ee"
      },
      "execution_count": 44,
      "outputs": [
        {
          "output_type": "stream",
          "name": "stdout",
          "text": [
            "First 10 Fibonacci numbers:\n",
            "0 1 1 2 3 5 8 13 21 34 "
          ]
        }
      ]
    }
  ]
}