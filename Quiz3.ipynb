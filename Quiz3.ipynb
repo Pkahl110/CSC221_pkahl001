{
  "nbformat": 4,
  "nbformat_minor": 0,
  "metadata": {
    "colab": {
      "provenance": [],
      "authorship_tag": "ABX9TyOGaVpZ8BjnNvQiRW5kyGIU",
      "include_colab_link": true
    },
    "kernelspec": {
      "name": "python3",
      "display_name": "Python 3"
    },
    "language_info": {
      "name": "python"
    }
  },
  "cells": [
    {
      "cell_type": "markdown",
      "metadata": {
        "id": "view-in-github",
        "colab_type": "text"
      },
      "source": [
        "<a href=\"https://colab.research.google.com/github/Pkahl110/CSC221_pkahl001/blob/main/Quiz3.ipynb\" target=\"_parent\"><img src=\"https://colab.research.google.com/assets/colab-badge.svg\" alt=\"Open In Colab\"/></a>"
      ]
    },
    {
      "cell_type": "code",
      "source": [
        "#int()\n",
        "\n",
        "string_num = \"123\"\n",
        "integer_num = int(string_num)\n",
        "print(f\"Converted string '{string_num}' to integer: {integer_num}\")\n",
        "\n",
        "# Convert a float to an integer\n",
        "float_num = 3.14\n",
        "integer_from_float = int(float_num)\n",
        "print(f\"Converted float '{float_num}' to integer: {integer_from_float}\")"
      ],
      "metadata": {
        "colab": {
          "base_uri": "https://localhost:8080/"
        },
        "id": "yw8ykisN4iW0",
        "outputId": "2e930bee-86f4-4c1d-b992-f622e45bd33b"
      },
      "execution_count": 3,
      "outputs": [
        {
          "output_type": "stream",
          "name": "stdout",
          "text": [
            "Converted string '123' to integer: 123\n",
            "Converted float '3.14' to integer: 3\n"
          ]
        }
      ]
    },
    {
      "cell_type": "code",
      "source": [
        "#str()\n",
        "\n",
        "integer_num = 123\n",
        "string_from_int = str(integer_num)\n",
        "print(f\"Converted integer '{integer_num}' to string: {string_from_int}\")\n",
        "\n",
        "float_num = 3.14\n",
        "string_from_float = str(float_num)\n",
        "print(f\"Converted float '{float_num}' to string: {string_from_float}\")"
      ],
      "metadata": {
        "colab": {
          "base_uri": "https://localhost:8080/"
        },
        "id": "DNSHE_bK4sgS",
        "outputId": "e8cc6e8c-2c36-4e7a-dd08-6113ca50b514"
      },
      "execution_count": 5,
      "outputs": [
        {
          "output_type": "stream",
          "name": "stdout",
          "text": [
            "Converted integer '123' to string: 123\n",
            "Converted float '3.14' to string: 3.14\n"
          ]
        }
      ]
    },
    {
      "cell_type": "code",
      "source": [
        "#tuple\n",
        "\n",
        "# Convert a list to a tuple\n",
        "my_list = [1, 2, 3, 4, 5]\n",
        "tuple_from_list = tuple(my_list)\n",
        "print(f\"Converted list '{my_list}' to tuple: {tuple_from_list}\")\n",
        "\n",
        "# Convert a string to a tuple\n",
        "my_string = \"hello\"\n",
        "tuple_from_string = tuple(my_string)\n",
        "print(f\"Converted string '{my_string}' to tuple: {tuple_from_string}\")"
      ],
      "metadata": {
        "colab": {
          "base_uri": "https://localhost:8080/"
        },
        "id": "dkrfro6j53E5",
        "outputId": "56306acb-352a-4560-92f4-6cc788852331"
      },
      "execution_count": 6,
      "outputs": [
        {
          "output_type": "stream",
          "name": "stdout",
          "text": [
            "Converted list '[1, 2, 3, 4, 5]' to tuple: (1, 2, 3, 4, 5)\n",
            "Converted string 'hello' to tuple: ('h', 'e', 'l', 'l', 'o')\n"
          ]
        }
      ]
    },
    {
      "cell_type": "code",
      "source": [
        "#sum()\n",
        "\n",
        "#Sum of elements in a list\n",
        "my_list = [1, 2, 3, 4, 5]\n",
        "sum_of_list = sum(my_list)\n",
        "print(f\"Sum of elements in the list {my_list}: {sum_of_list}\")\n",
        "\n",
        "#Sum of elements in a tuple\n",
        "my_tuple = (1, 2, 3, 4, 5)\n",
        "sum_of_tuple = sum(my_tuple)\n",
        "print(f\"Sum of elements in the tuple {my_tuple}: {sum_of_tuple}\")\n",
        "\n",
        "#Sum of elements in a range\n",
        "my_range = range(1, 6)\n",
        "sum_of_range = sum(my_range)\n",
        "print(f\"Sum of elements in the range {list(my_range)}: {sum_of_range}\")"
      ],
      "metadata": {
        "colab": {
          "base_uri": "https://localhost:8080/"
        },
        "id": "rdaBLYJE7C4G",
        "outputId": "e84cf0e4-5e20-4562-9c01-3bdb07ab8c53"
      },
      "execution_count": 7,
      "outputs": [
        {
          "output_type": "stream",
          "name": "stdout",
          "text": [
            "Sum of elements in the list [1, 2, 3, 4, 5]: 15\n",
            "Sum of elements in the tuple (1, 2, 3, 4, 5): 15\n",
            "Sum of elements in the range [1, 2, 3, 4, 5]: 15\n"
          ]
        }
      ]
    },
    {
      "cell_type": "code",
      "source": [
        "#sorted()\n",
        "\n",
        "numbers = [5, 2, 7, 1, 8, 3]\n",
        "sorted_numbers = sorted(numbers)\n",
        "print(\"Sorted numbers:\", sorted_numbers)\n",
        "\n",
        "#Sorting a list of strings\n",
        "words = [\"apple\", \"banana\", \"orange\", \"grape\", \"pineapple\"]\n",
        "sorted_words = sorted(words)\n",
        "print(\"Sorted words:\", sorted_words)\n",
        "\n",
        "#Sorting a tuple\n",
        "tuple_example = (3, 1, 4, 1, 5, 9, 2, 6, 5)\n",
        "sorted_tuple = sorted(tuple_example)\n",
        "print(\"Sorted tuple:\", sorted_tuple)"
      ],
      "metadata": {
        "colab": {
          "base_uri": "https://localhost:8080/"
        },
        "id": "405g1MOC7wb8",
        "outputId": "abe47d29-e6b9-468e-ced7-602e6c1b705a"
      },
      "execution_count": 9,
      "outputs": [
        {
          "output_type": "stream",
          "name": "stdout",
          "text": [
            "Sorted numbers: [1, 2, 3, 5, 7, 8]\n",
            "Sorted words: ['apple', 'banana', 'grape', 'orange', 'pineapple']\n",
            "Sorted tuple: [1, 1, 2, 3, 4, 5, 5, 6, 9]\n"
          ]
        }
      ]
    },
    {
      "cell_type": "code",
      "source": [
        "#print()\n",
        "\n",
        "name = \"Alice\"\n",
        "age = 30\n",
        "print(\"Name:\", name, \"Age:\", age)"
      ],
      "metadata": {
        "colab": {
          "base_uri": "https://localhost:8080/"
        },
        "id": "22HwFP0I8H4B",
        "outputId": "ef3e60d7-e490-4dde-fa09-e934bcc2764e"
      },
      "execution_count": 10,
      "outputs": [
        {
          "output_type": "stream",
          "name": "stdout",
          "text": [
            "Name: Alice Age: 30\n"
          ]
        }
      ]
    },
    {
      "cell_type": "code",
      "source": [
        "#object()\n",
        "\n",
        "class MyClass:\n",
        "    def __init__(self, name):\n",
        "        self.name = name\n",
        "\n",
        "    def greet(self):\n",
        "        return f\"Hello, {self.name}!\"\n",
        "\n",
        "obj1 = MyClass(\"Alice\")\n",
        "\n",
        "print(obj1.name)\n",
        "print(obj1.greet())\n",
        "\n",
        "obj2 = MyClass(\"Bob\")\n",
        "\n",
        "print(obj2.name)\n",
        "print(obj2.greet())"
      ],
      "metadata": {
        "colab": {
          "base_uri": "https://localhost:8080/"
        },
        "id": "WViiV_8o8Okl",
        "outputId": "31635d0b-7a68-4191-e8e9-7aadcb5680e3"
      },
      "execution_count": 11,
      "outputs": [
        {
          "output_type": "stream",
          "name": "stdout",
          "text": [
            "Alice\n",
            "Hello, Alice!\n",
            "Bob\n",
            "Hello, Bob!\n"
          ]
        }
      ]
    },
    {
      "cell_type": "code",
      "source": [
        "#locals()\n",
        "\n",
        "def my_function():\n",
        "    local_variable = \"I am a local variable\"\n",
        "    print(\"Local variables inside my_function:\")\n",
        "    print(locals())\n",
        "\n",
        "my_function()"
      ],
      "metadata": {
        "colab": {
          "base_uri": "https://localhost:8080/"
        },
        "id": "VE4afOmx9g2t",
        "outputId": "bb36a3a2-e110-47c9-a5cb-fa931a2bd3d5"
      },
      "execution_count": 12,
      "outputs": [
        {
          "output_type": "stream",
          "name": "stdout",
          "text": [
            "Local variables inside my_function:\n",
            "{'local_variable': 'I am a local variable'}\n"
          ]
        }
      ]
    },
    {
      "cell_type": "code",
      "source": [
        "#list()\n",
        "\n",
        "string = \"hello\"\n",
        "char_list = list(string)\n",
        "print(\"List of characters from string:\", char_list)\n",
        "\n",
        "tuple_example = (1, 2, 3, 4, 5)\n",
        "list_from_tuple = list(tuple_example)\n",
        "print(\"List from tuple:\", list_from_tuple)\n",
        "\n",
        "empty_list = list()\n",
        "print(\"Empty list:\", empty_list)"
      ],
      "metadata": {
        "colab": {
          "base_uri": "https://localhost:8080/"
        },
        "id": "S-yjNA2j-a1b",
        "outputId": "eef42e38-77e2-406a-c1cd-f467bccb2aca"
      },
      "execution_count": 13,
      "outputs": [
        {
          "output_type": "stream",
          "name": "stdout",
          "text": [
            "List of characters from string: ['h', 'e', 'l', 'l', 'o']\n",
            "List from tuple: [1, 2, 3, 4, 5]\n",
            "Empty list: []\n"
          ]
        }
      ]
    },
    {
      "cell_type": "code",
      "source": [
        "#len()\n",
        "\n",
        "string = \"hello\"\n",
        "string_length = len(string)\n",
        "print(\"Length of the string:\", string_length)\n",
        "\n",
        "my_list = [1, 2, 3, 4, 5]\n",
        "list_length = len(my_list)\n",
        "print(\"Length of the list:\", list_length)\n",
        "\n",
        "my_tuple = (1, 2, 3, 4, 5)\n",
        "tuple_length = len(my_tuple)\n",
        "print(\"Length of the tuple:\", tuple_length)"
      ],
      "metadata": {
        "colab": {
          "base_uri": "https://localhost:8080/"
        },
        "id": "t7kpnKZp-jc3",
        "outputId": "d59ba42d-9fe8-4070-821b-33489b972b4c"
      },
      "execution_count": 14,
      "outputs": [
        {
          "output_type": "stream",
          "name": "stdout",
          "text": [
            "Length of the string: 5\n",
            "Length of the list: 5\n",
            "Length of the tuple: 5\n"
          ]
        }
      ]
    },
    {
      "cell_type": "code",
      "source": [
        "#input()\n",
        "\n",
        "name = input(\"Enter your name: \")\n",
        "print(\"Hello,\", name)\n",
        "\n",
        "age = int(input(\"Enter your age: \"))\n",
        "print(\"You are\", age, \"years old.\")"
      ],
      "metadata": {
        "colab": {
          "base_uri": "https://localhost:8080/"
        },
        "id": "kxmMRD2q_NuJ",
        "outputId": "2ef0ec73-e31c-4ab7-865b-b2fea979927a"
      },
      "execution_count": 15,
      "outputs": [
        {
          "output_type": "stream",
          "name": "stdout",
          "text": [
            "Enter your name: Paul\n",
            "Hello, Paul\n",
            "Enter your age: 19\n",
            "You are 19 years old.\n"
          ]
        }
      ]
    },
    {
      "cell_type": "code",
      "source": [
        "#float\n",
        "\n",
        "string_num = \"3.14\"\n",
        "float_num = float(string_num)\n",
        "print(\"Converted string to float:\", float_num)\n",
        "\n",
        "integer_num = 5\n",
        "float_from_int = float(integer_num)\n",
        "print(\"Converted integer to float:\", float_from_int)\n",
        "\n",
        "boolean_value = True\n",
        "float_from_bool = float(boolean_value)\n",
        "print(\"Converted boolean to float:\", float_from_bool)"
      ],
      "metadata": {
        "colab": {
          "base_uri": "https://localhost:8080/"
        },
        "id": "pPYvVgVf_uuI",
        "outputId": "701101cb-09ea-4de6-e687-db9e50155162"
      },
      "execution_count": 16,
      "outputs": [
        {
          "output_type": "stream",
          "name": "stdout",
          "text": [
            "Converted string to float: 3.14\n",
            "Converted integer to float: 5.0\n",
            "Converted boolean to float: 1.0\n"
          ]
        }
      ]
    },
    {
      "cell_type": "code",
      "source": [
        "#dict()\n",
        "\n",
        "my_dict = dict([('a', 1), ('b', 2), ('c', 3)])\n",
        "print(\"Dictionary created from key-value pairs:\", my_dict)\n",
        "\n",
        "my_dict_from_kwargs = dict(a=1, b=2, c=3)\n",
        "print(\"Dictionary created using keyword arguments:\", my_dict_from_kwargs)"
      ],
      "metadata": {
        "colab": {
          "base_uri": "https://localhost:8080/"
        },
        "id": "KgnQGTNkA9q1",
        "outputId": "23913b2d-5b9f-4d6d-e1e3-2930db40d8dc"
      },
      "execution_count": 17,
      "outputs": [
        {
          "output_type": "stream",
          "name": "stdout",
          "text": [
            "Dictionary created from key-value pairs: {'a': 1, 'b': 2, 'c': 3}\n",
            "Dictionary created using keyword arguments: {'a': 1, 'b': 2, 'c': 3}\n"
          ]
        }
      ]
    },
    {
      "cell_type": "code",
      "source": [
        "#range()\n",
        "\n",
        "my_range1 = range(5)\n",
        "print(\"Range with stop value 5:\", list(my_range1))\n",
        "\n",
        "my_range2 = range(1, 6)\n",
        "print(\"Range with start value 1 and stop value 6:\", list(my_range2))\n",
        "\n",
        "my_range3 = range(1, 10, 2)\n",
        "print(\"Range with start value 1, stop value 10, and step value 2:\", list(my_range3))"
      ],
      "metadata": {
        "colab": {
          "base_uri": "https://localhost:8080/"
        },
        "id": "yITFB1p0BhiE",
        "outputId": "fdf2c889-453e-4f7c-ac96-07843cd899fe"
      },
      "execution_count": 18,
      "outputs": [
        {
          "output_type": "stream",
          "name": "stdout",
          "text": [
            "Range with stop value 5: [0, 1, 2, 3, 4]\n",
            "Range with start value 1 and stop value 6: [1, 2, 3, 4, 5]\n",
            "Range with start value 1, stop value 10, and step value 2: [1, 3, 5, 7, 9]\n"
          ]
        }
      ]
    },
    {
      "cell_type": "code",
      "source": [
        "#abs\n",
        "\n",
        "num1 = -10\n",
        "abs_num1 = abs(num1)\n",
        "print(f\"The absolute value of {num1} is {abs_num1}\")\n",
        "\n",
        "num2 = -3.14\n",
        "abs_num2 = abs(num2)\n",
        "print(f\"The absolute value of {num2} is {abs_num2}\")"
      ],
      "metadata": {
        "colab": {
          "base_uri": "https://localhost:8080/"
        },
        "id": "O3yMcGSRB4li",
        "outputId": "4ac49948-c7ea-4e1e-db81-9317a18cc729"
      },
      "execution_count": 19,
      "outputs": [
        {
          "output_type": "stream",
          "name": "stdout",
          "text": [
            "The absolute value of -10 is 10\n",
            "The absolute value of -3.14 is 3.14\n"
          ]
        }
      ]
    },
    {
      "cell_type": "code",
      "source": [
        "#type()\n",
        "\n",
        "x = 5\n",
        "print(\"Type of x:\", type(x))\n",
        "\n",
        "y = 3.14\n",
        "print(\"Type of y:\", type(y))\n",
        "\n",
        "z = \"hello\"\n",
        "print(\"Type of z:\", type(z))"
      ],
      "metadata": {
        "colab": {
          "base_uri": "https://localhost:8080/"
        },
        "id": "5pZ8IdA2CDfh",
        "outputId": "979c86b4-3611-49bd-a999-69c32447b43d"
      },
      "execution_count": 20,
      "outputs": [
        {
          "output_type": "stream",
          "name": "stdout",
          "text": [
            "Type of x: <class 'int'>\n",
            "Type of y: <class 'float'>\n",
            "Type of z: <class 'str'>\n"
          ]
        }
      ]
    },
    {
      "cell_type": "code",
      "source": [
        "#max(), min()\n",
        "\n",
        "numbers = [5, 2, 7, 1, 8, 3]\n",
        "max_value = max(numbers)\n",
        "min_value = min(numbers)\n",
        "print(\"Maximum value:\", max_value)  # Output: 8\n",
        "print(\"Minimum value:\", min_value)  # Output: 1"
      ],
      "metadata": {
        "colab": {
          "base_uri": "https://localhost:8080/"
        },
        "id": "1gf-alUDCdN1",
        "outputId": "6c891e44-159d-4de6-fcf1-d8e77c396119"
      },
      "execution_count": 21,
      "outputs": [
        {
          "output_type": "stream",
          "name": "stdout",
          "text": [
            "Maximum value: 8\n",
            "Minimum value: 1\n"
          ]
        }
      ]
    },
    {
      "cell_type": "code",
      "source": [
        "#all()\n",
        "\n",
        "list1 = [True, True, False, True]\n",
        "result1 = all(list1)\n",
        "print(\"All elements in list1 are True:\", result1)\n",
        "\n",
        "tuple1 = (True, True, True, True)\n",
        "result2 = all(tuple1)\n",
        "print(\"All elements in tuple1 are True:\", result2)"
      ],
      "metadata": {
        "colab": {
          "base_uri": "https://localhost:8080/"
        },
        "id": "F4MkAh5mDGs9",
        "outputId": "f3f4337e-a737-4958-b764-0f1310af82eb"
      },
      "execution_count": 22,
      "outputs": [
        {
          "output_type": "stream",
          "name": "stdout",
          "text": [
            "All elements in list1 are True: False\n",
            "All elements in tuple1 are True: True\n"
          ]
        }
      ]
    },
    {
      "cell_type": "code",
      "source": [
        "#chr()\n",
        "\n",
        "ascii_code = 65\n",
        "character = chr(ascii_code)\n",
        "print(f\"The character corresponding to ASCII code {ascii_code} is '{character}'\")\n",
        "\n",
        "unicode_code_point = 8364\n",
        "character = chr(unicode_code_point)\n",
        "print(f\"The character corresponding to Unicode code point {unicode_code_point} is '{character}'\")"
      ],
      "metadata": {
        "colab": {
          "base_uri": "https://localhost:8080/"
        },
        "id": "79PaebYvDucX",
        "outputId": "55c6cdda-e9f1-4ab4-e797-da5b2584805e"
      },
      "execution_count": 23,
      "outputs": [
        {
          "output_type": "stream",
          "name": "stdout",
          "text": [
            "The character corresponding to ASCII code 65 is 'A'\n",
            "The character corresponding to Unicode code point 8364 is '€'\n"
          ]
        }
      ]
    }
  ]
}