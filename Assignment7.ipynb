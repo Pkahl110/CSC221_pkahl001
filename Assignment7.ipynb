{
  "nbformat": 4,
  "nbformat_minor": 0,
  "metadata": {
    "colab": {
      "provenance": [],
      "authorship_tag": "ABX9TyPnss7Pvr1Io+tsci+c3Naj",
      "include_colab_link": true
    },
    "kernelspec": {
      "name": "python3",
      "display_name": "Python 3"
    },
    "language_info": {
      "name": "python"
    }
  },
  "cells": [
    {
      "cell_type": "markdown",
      "metadata": {
        "id": "view-in-github",
        "colab_type": "text"
      },
      "source": [
        "<a href=\"https://colab.research.google.com/github/Pkahl110/CSC221_pkahl001/blob/main/Assignment7.ipynb\" target=\"_parent\"><img src=\"https://colab.research.google.com/assets/colab-badge.svg\" alt=\"Open In Colab\"/></a>"
      ]
    },
    {
      "cell_type": "code",
      "execution_count": 2,
      "metadata": {
        "colab": {
          "base_uri": "https://localhost:8080/"
        },
        "id": "aXYDaCkpLmLt",
        "outputId": "9b6d20e5-d1ec-42be-890b-a6655d5459ff"
      },
      "outputs": [
        {
          "output_type": "stream",
          "name": "stdout",
          "text": [
            "Paul\n",
            "Kahl\n",
            "43\n",
            "Kings Park\n"
          ]
        }
      ],
      "source": [
        "#TIY 6-1\n",
        "\n",
        "person = {'firstname': 'Paul', 'lastname': 'Kahl', 'age': 43,'city': 'Kings Park'}\n",
        "\n",
        "print(person['firstname'])\n",
        "print(person['lastname'])\n",
        "print(person['age'])\n",
        "print(person['city'])"
      ]
    },
    {
      "cell_type": "code",
      "source": [
        "#TIY 6-2\n",
        "\n",
        "favorite_numbers = {'Paul': 41, 'Connor': 13, 'Logan': 9, 'Nico': 72, 'Tj': 1992}\n",
        "\n",
        "num = favorite_numbers['Paul']\n",
        "print(f\"Paul's favorite number is {num}.\")\n",
        "\n",
        "num = favorite_numbers['Connor']\n",
        "print(f\"Connor's favorite number is {num}.\")\n",
        "\n",
        "num = favorite_numbers['Logan']\n",
        "print(f\"Logan's favorite number is {num}.\")\n",
        "\n",
        "num = favorite_numbers['Nico']\n",
        "print(f\"Nico's favorite number is {num}.\")\n",
        "\n",
        "num = favorite_numbers['Tj']\n",
        "print(f\"Tj's favorite number is {num}.\")"
      ],
      "metadata": {
        "colab": {
          "base_uri": "https://localhost:8080/"
        },
        "id": "Wrz3PpQ_NAgN",
        "outputId": "f9b36320-5e4b-436b-af8e-5206c510a2eb"
      },
      "execution_count": 3,
      "outputs": [
        {
          "output_type": "stream",
          "name": "stdout",
          "text": [
            "Paul's favorite number is 41.\n",
            "Connor's favorite number is 13.\n",
            "Logan's favorite number is 9.\n",
            "Nico's favorite number is 72.\n",
            "Tj's favorite number is 1992.\n"
          ]
        }
      ]
    },
    {
      "cell_type": "code",
      "source": [
        "#TIY 6-4\n",
        "\n",
        "glossary = {\n",
        "    'dictionary': \"A collection of key-value pairs.\",\n",
        "    'string': 'A series of characters.',\n",
        "    'comment': 'A sentence that the program ignores.',\n",
        "    'boolean expression': 'An expression that evaluates to True or False.',\n",
        "    'list': 'A group of words.',\n",
        "    'loop': 'Work through a collection of items, one at a time.',\n",
        "    'key': 'The first item in a key-value pair in a dictionary.',\n",
        "    'conditional test': 'A comparison between two values.',\n",
        "    'float': 'A numerical value with a decimal component.',\n",
        "    'value': 'An item associated with a key in a dictionary.',\n",
        "    }\n",
        "\n",
        "for word, definition in glossary.items():\n",
        "    print(f\"\\n{word.title()}: {definition}\")"
      ],
      "metadata": {
        "colab": {
          "base_uri": "https://localhost:8080/"
        },
        "id": "k5g7rhiTOR_2",
        "outputId": "cf32b5dc-90a7-440a-81c8-7f3ad547a11c"
      },
      "execution_count": 5,
      "outputs": [
        {
          "output_type": "stream",
          "name": "stdout",
          "text": [
            "\n",
            "Dictionary: A collection of key-value pairs.\n",
            "\n",
            "String: A series of characters.\n",
            "\n",
            "Comment: A sentence that the program ignores.\n",
            "\n",
            "Boolean Expression: An expression that evaluates to True or False.\n",
            "\n",
            "List: A collection of items in a particular order.\n",
            "\n",
            "Loop: Work through a collection of items, one at a time.\n",
            "\n",
            "Key: The first item in a key-value pair in a dictionary.\n",
            "\n",
            "Conditional Test: A comparison between two values.\n",
            "\n",
            "Float: A numerical value with a decimal component.\n",
            "\n",
            "Value: An item associated with a key in a dictionary.\n"
          ]
        }
      ]
    },
    {
      "cell_type": "code",
      "source": [
        "cities = {\n",
        "    'New York': {\n",
        "        'country': 'USA',\n",
        "        'population': '8.4 million',\n",
        "        'fact': 'New York City is the most populous city in the United States.'\n",
        "    },\n",
        "    'Tokyo': {\n",
        "        'country': 'Japan',\n",
        "        'population': '9.7 million',\n",
        "        'fact': 'Tokyo is the capital city of Japan and one of the most populous metropolitan areas in the world.'\n",
        "    },\n",
        "    'London': {\n",
        "        'country': 'UK',\n",
        "        'population': '9 million',\n",
        "        'fact': 'London is the capital and largest city of England and the United Kingdom.'\n",
        "    }\n",
        "}\n",
        "\n",
        "for city, info in cities.items():\n",
        "    print(f\"{city}:\")\n",
        "    print(f\"Country: {info['country']}\")\n",
        "    print(f\"Population: {info['population']}\")\n",
        "    print(f\"Fact: {info['fact']}\")\n",
        "    print()"
      ],
      "metadata": {
        "colab": {
          "base_uri": "https://localhost:8080/"
        },
        "id": "qsUSS_prPufQ",
        "outputId": "bcd511f1-12bd-490b-cc13-709a4ec3cde4"
      },
      "execution_count": 6,
      "outputs": [
        {
          "output_type": "stream",
          "name": "stdout",
          "text": [
            "New York:\n",
            "Country: USA\n",
            "Population: 8.4 million\n",
            "Fact: New York City is the most populous city in the United States.\n",
            "\n",
            "Tokyo:\n",
            "Country: Japan\n",
            "Population: 9.7 million\n",
            "Fact: Tokyo is the capital city of Japan and one of the most populous metropolitan areas in the world.\n",
            "\n",
            "London:\n",
            "Country: UK\n",
            "Population: 9 million\n",
            "Fact: London is the capital and largest city of England and the United Kingdom.\n",
            "\n"
          ]
        }
      ]
    },
    {
      "cell_type": "code",
      "source": [
        "data = \"\"\"kevin, 91\n",
        "ayush, 94\n",
        "bob, 97\n",
        "amy, 89\n",
        "ankita, 97\n",
        "ned, 79\n",
        "timmy, 82\"\"\"\n",
        "\n",
        "with open(\"grades.txt\", \"w\") as file:\n",
        "    file.write(data)\n",
        "\n",
        "def read_grades(filename):\n",
        "    grades_dict = {}\n",
        "    with open(filename, 'r') as file:\n",
        "        for line in file:\n",
        "            name, grade = line.strip().split(', ')\n",
        "            grades_dict[name] = int(grade)\n",
        "    return grades_dict\n",
        "\n",
        "\n",
        "def print_sorted_by_name(grades_dict):\n",
        "    sorted_names = sorted(grades_dict.keys())\n",
        "    for name in sorted_names:\n",
        "        print(name, grades_dict[name])\n",
        "\n",
        "\n",
        "filename = \"grades.txt\"\n",
        "\n",
        "\n",
        "grades_dict = read_grades(filename)\n",
        "\n",
        "print_sorted_by_name(grades_dict)"
      ],
      "metadata": {
        "colab": {
          "base_uri": "https://localhost:8080/"
        },
        "id": "3YWo7Y-hwfak",
        "outputId": "fa1e0e87-1605-458b-f2a3-95b31fd872b1"
      },
      "execution_count": 12,
      "outputs": [
        {
          "output_type": "stream",
          "name": "stdout",
          "text": [
            "amy 89\n",
            "ankita 97\n",
            "ayush 94\n",
            "bob 97\n",
            "kevin 91\n",
            "ned 79\n",
            "timmy 82\n"
          ]
        }
      ]
    }
  ]
}