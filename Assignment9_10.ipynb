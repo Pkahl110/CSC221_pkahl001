{
  "nbformat": 4,
  "nbformat_minor": 0,
  "metadata": {
    "colab": {
      "provenance": [],
      "authorship_tag": "ABX9TyODwYghhXNcoWJNy3FR9aiZ",
      "include_colab_link": true
    },
    "kernelspec": {
      "name": "python3",
      "display_name": "Python 3"
    },
    "language_info": {
      "name": "python"
    }
  },
  "cells": [
    {
      "cell_type": "markdown",
      "metadata": {
        "id": "view-in-github",
        "colab_type": "text"
      },
      "source": [
        "<a href=\"https://colab.research.google.com/github/Pkahl110/CSC221_pkahl001/blob/main/Assignment9_10.ipynb\" target=\"_parent\"><img src=\"https://colab.research.google.com/assets/colab-badge.svg\" alt=\"Open In Colab\"/></a>"
      ]
    },
    {
      "cell_type": "markdown",
      "source": [
        "#Displacement equation"
      ],
      "metadata": {
        "id": "6pE9rP2-6hUj"
      }
    },
    {
      "cell_type": "code",
      "source": [
        "def displacement_equation(initial_velocity, acceleration, time):\n",
        "\n",
        "    displacement = initial_velocity * time + 0.5 * acceleration * time**2\n",
        "    return displacement"
      ],
      "metadata": {
        "id": "qgSPn4NF6ZAV"
      },
      "execution_count": null,
      "outputs": []
    },
    {
      "cell_type": "code",
      "source": [
        "displacement_equation(50, 5, 40)"
      ],
      "metadata": {
        "colab": {
          "base_uri": "https://localhost:8080/"
        },
        "id": "j5A3HOqH6-D_",
        "outputId": "f06bcbe8-6d39-4324-9615-16295fdc84b6"
      },
      "execution_count": null,
      "outputs": [
        {
          "output_type": "execute_result",
          "data": {
            "text/plain": [
              "6000.0"
            ]
          },
          "metadata": {},
          "execution_count": 5
        }
      ]
    },
    {
      "cell_type": "markdown",
      "source": [
        "#Final velocity equation"
      ],
      "metadata": {
        "id": "Mk4Q1k8n7ecD"
      }
    },
    {
      "cell_type": "code",
      "source": [
        "def final_velocity(initial_velocity, acceleration, displacement):\n",
        "\n",
        "    final_velocity = (initial_velocity**2 + 2 * acceleration * displacement)**0.5\n",
        "    return final_velocity\n",
        "\n",
        "def get_input():\n",
        "    initial_velocity = float(input(\"Enter the initial velocity (m/s): \"))\n",
        "    acceleration = float(input(\"Enter the acceleration (m/s^2): \"))\n",
        "    displacement = float(input(\"Enter the displacement (m): \"))\n",
        "    return initial_velocity, acceleration, displacement\n"
      ],
      "metadata": {
        "id": "kCJnNq9H7hba"
      },
      "execution_count": null,
      "outputs": []
    },
    {
      "cell_type": "code",
      "source": [
        "initial_velocity, acceleration, displacement = get_input()\n",
        "\n",
        "result = final_velocity(initial_velocity, acceleration, displacement)\n",
        "print(\"Final velocity:\", result)"
      ],
      "metadata": {
        "colab": {
          "base_uri": "https://localhost:8080/"
        },
        "id": "8R_XTcS18LMz",
        "outputId": "88233459-1a73-4fd2-bbfb-4e20a946e92b"
      },
      "execution_count": null,
      "outputs": [
        {
          "output_type": "stream",
          "name": "stdout",
          "text": [
            "Enter the initial velocity (m/s): 50\n",
            "Enter the acceleration (m/s^2): 4\n",
            "Enter the displacement (m): 30\n",
            "Final velocity: 52.3450093132096\n"
          ]
        }
      ]
    },
    {
      "cell_type": "markdown",
      "source": [
        "#Work done"
      ],
      "metadata": {
        "id": "tos4sfCp8pge"
      }
    },
    {
      "cell_type": "code",
      "source": [
        "def work_done(*args):\n",
        "\n",
        "    if len(args):\n",
        "        force, displacement = args\n",
        "\n",
        "    work = force * displacement\n",
        "    return work\n",
        "\n"
      ],
      "metadata": {
        "id": "6lR1XmZ49ERW"
      },
      "execution_count": null,
      "outputs": []
    },
    {
      "cell_type": "code",
      "source": [
        "print(work_done(10, 5))\n",
        "print(work_done(20, 8))\n",
        "print(work_done(15, 3))\n"
      ],
      "metadata": {
        "colab": {
          "base_uri": "https://localhost:8080/"
        },
        "id": "yJW5Ao0d-gBd",
        "outputId": "56a82dc6-9474-4e41-a979-2081627a2420"
      },
      "execution_count": null,
      "outputs": [
        {
          "output_type": "stream",
          "name": "stdout",
          "text": [
            "50\n",
            "160\n",
            "45\n"
          ]
        }
      ]
    },
    {
      "cell_type": "markdown",
      "source": [
        "#Newtons second law"
      ],
      "metadata": {
        "id": "wNtga8ni_KX-"
      }
    },
    {
      "cell_type": "code",
      "source": [
        "def force_from_newtons_second_law(mass, velocity, time):\n",
        "\n",
        "    acceleration = velocity / time\n",
        "\n",
        "    return acceleration\n",
        "\n",
        "    force = mass * acceleration\n",
        "\n",
        "    return force\n"
      ],
      "metadata": {
        "id": "6LekZbNx_yNu"
      },
      "execution_count": null,
      "outputs": []
    },
    {
      "cell_type": "code",
      "source": [
        "\n",
        "print(force_from_newtons_second_law(5, 2, 6))\n",
        "print(force_from_newtons_second_law(10, 6, 8))\n",
        "print(force_from_newtons_second_law(2, 40, 5))"
      ],
      "metadata": {
        "colab": {
          "base_uri": "https://localhost:8080/"
        },
        "id": "xVWXoFz1ADT9",
        "outputId": "611da1a4-7307-49e6-99e9-a23f07f3f1c8"
      },
      "execution_count": null,
      "outputs": [
        {
          "output_type": "stream",
          "name": "stdout",
          "text": [
            "0.3333333333333333\n",
            "0.75\n",
            "8.0\n"
          ]
        }
      ]
    },
    {
      "cell_type": "markdown",
      "source": [
        "#Work done at an angle"
      ],
      "metadata": {
        "id": "P6tSOz4dCd-c"
      }
    },
    {
      "cell_type": "code",
      "source": [
        "import math\n",
        "\n",
        "def work_done(*args):\n",
        "\n",
        "    if len(args):\n",
        "        force, displacement, angle = args\n",
        "\n",
        "    work = force * displacement * math.cos(math.radians(angle))\n",
        "    return work"
      ],
      "metadata": {
        "id": "fp5NeAuwCdlH"
      },
      "execution_count": null,
      "outputs": []
    },
    {
      "cell_type": "code",
      "source": [
        "print(work_done(10, 5, 45))\n",
        "print(work_done(20, 8, 0))\n",
        "print(work_done(15, 3, 65))"
      ],
      "metadata": {
        "colab": {
          "base_uri": "https://localhost:8080/"
        },
        "id": "QrM6Yg5iCzUp",
        "outputId": "bfd8f7b4-8750-4899-dc0c-9afdca810d69"
      },
      "execution_count": null,
      "outputs": [
        {
          "output_type": "stream",
          "name": "stdout",
          "text": [
            "35.35533905932738\n",
            "160.0\n",
            "19.017821778331474\n"
          ]
        }
      ]
    },
    {
      "cell_type": "markdown",
      "source": [
        "#Torque equation"
      ],
      "metadata": {
        "id": "n3H4BS60DOLe"
      }
    },
    {
      "cell_type": "code",
      "source": [
        "def torque(mass, acceleration, distance):\n",
        "\n",
        "    force = mass * acceleration\n",
        "\n",
        "    return force\n",
        "\n",
        "    torque = force * distance\n",
        "    return torque\n",
        "\n",
        "def get_input():\n",
        "    mass = float(input(\"Enter the mass: \"))\n",
        "    acceleration = float(input(\"Enter the acceleration: \"))\n",
        "    distance = float(input(\"Enter the distance: \"))\n",
        "    return mass, acceleration, distance"
      ],
      "metadata": {
        "id": "ojxlCjGYEmYw"
      },
      "execution_count": null,
      "outputs": []
    },
    {
      "cell_type": "code",
      "source": [
        "mass, acceleration, distance= get_input()\n",
        "\n",
        "result = torque(mass, acceleration, distance)\n",
        "print(\"Torque:\", result)"
      ],
      "metadata": {
        "colab": {
          "base_uri": "https://localhost:8080/"
        },
        "id": "J6bIFepzE69F",
        "outputId": "1836568f-9cc4-458a-9a42-7876af1ecb07"
      },
      "execution_count": null,
      "outputs": [
        {
          "output_type": "stream",
          "name": "stdout",
          "text": [
            "Enter the mass: 55\n",
            "Enter the acceleration: 55\n",
            "Enter the distance: 55\n",
            "Torque: 3025.0\n"
          ]
        }
      ]
    },
    {
      "cell_type": "markdown",
      "source": [
        "# Sorting acceleration"
      ],
      "metadata": {
        "id": "Iq3WNQbqnpHs"
      }
    },
    {
      "cell_type": "code",
      "source": [
        "def sort_acceleration(masses, angle, g=9.81):\n",
        "\n",
        "    import math\n",
        "\n",
        "    accelerations = []\n",
        "    for mass in masses:\n",
        "        acceleration = g * math.sin(math.radians(angle))\n",
        "        accelerations.append((mass, acceleration))\n",
        "\n",
        "    sorted_accelerations = sorted(accelerations, key=lambda x: x[1])\n",
        "\n",
        "    return sorted_accelerations"
      ],
      "metadata": {
        "id": "vSquT-J9ncxR"
      },
      "execution_count": null,
      "outputs": []
    },
    {
      "cell_type": "code",
      "source": [
        "masses = [5, 3, 8, 2]\n",
        "angle = 30\n",
        "sorted_accelerations = sort_acceleration(masses, angle)\n",
        "print(sorted_accelerations)"
      ],
      "metadata": {
        "id": "4Twsw76Hnus9"
      },
      "execution_count": null,
      "outputs": []
    },
    {
      "cell_type": "markdown",
      "source": [
        "# Finding the coefficient of friction"
      ],
      "metadata": {
        "id": "ThW4vJLOn-CY"
      }
    },
    {
      "cell_type": "code",
      "source": [
        "def friction_coefficient(mass, force_friction, g=9.8):\n",
        "\n",
        "    force_normal = mass * g\n",
        "\n",
        "    coefficient_of_friction = force_friction / force_normal\n",
        "    return coefficient_of_friction\n",
        "\n",
        "def get_inputs():\n",
        "  mass = float(input(\"Enter the mass: \"))\n",
        "  force_friction = float(input(\"enter the force of friction: \"))\n",
        "\n",
        "  return mass, force_friction"
      ],
      "metadata": {
        "id": "zqtiWpjan3qx"
      },
      "execution_count": 21,
      "outputs": []
    },
    {
      "cell_type": "code",
      "source": [
        "mass, force_friction = get_inputs()\n",
        "\n",
        "result = friction_coefficient(mass, force_friction)\n",
        "print(\"coefficient of friction:\", result)"
      ],
      "metadata": {
        "colab": {
          "base_uri": "https://localhost:8080/"
        },
        "id": "6tKj0Jg2oW7d",
        "outputId": "1d000f19-35b5-469e-c1d8-7d6c360c5cbc"
      },
      "execution_count": 22,
      "outputs": [
        {
          "output_type": "stream",
          "name": "stdout",
          "text": [
            "Enter the mass: 55\n",
            "enter the force of friction: 55\n",
            "coefficient of friction: 0.10204081632653061\n"
          ]
        }
      ]
    }
  ]
}