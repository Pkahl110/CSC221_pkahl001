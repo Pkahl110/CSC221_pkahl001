{
  "nbformat": 4,
  "nbformat_minor": 0,
  "metadata": {
    "colab": {
      "provenance": [],
      "authorship_tag": "ABX9TyM7mTpcnZrJPFhSCqcmOOiy",
      "include_colab_link": true
    },
    "kernelspec": {
      "name": "python3",
      "display_name": "Python 3"
    },
    "language_info": {
      "name": "python"
    }
  },
  "cells": [
    {
      "cell_type": "markdown",
      "metadata": {
        "id": "view-in-github",
        "colab_type": "text"
      },
      "source": [
        "<a href=\"https://colab.research.google.com/github/Pkahl110/CSC221_pkahl001/blob/main/Assignment4.ipynb\" target=\"_parent\"><img src=\"https://colab.research.google.com/assets/colab-badge.svg\" alt=\"Open In Colab\"/></a>"
      ]
    },
    {
      "cell_type": "code",
      "execution_count": 1,
      "metadata": {
        "colab": {
          "base_uri": "https://localhost:8080/"
        },
        "id": "MUeMpgjuzPXI",
        "outputId": "4a6289e0-bf1a-4b6a-9cde-500b521959f5"
      },
      "outputs": [
        {
          "output_type": "stream",
          "name": "stdout",
          "text": [
            "['Becca', 'connor', 'logan']\n"
          ]
        }
      ],
      "source": [
        "# TIY 3-1\n",
        "\n",
        "names = ['Becca', 'connor', 'logan']\n",
        "print(names)"
      ]
    },
    {
      "cell_type": "code",
      "source": [
        "# TIY 3-2\n",
        "\n",
        "names = ['Becca', 'connor', 'logan']\n",
        "print(f'{names[0]}, how are you today?')\n",
        "print(f'{names[1]}, how is it transfering to a different college')\n",
        "print(f'{names[2]}, how was the trip')"
      ],
      "metadata": {
        "colab": {
          "base_uri": "https://localhost:8080/"
        },
        "id": "3uLJyltcz9XX",
        "outputId": "139a2e0c-94bb-41b0-d917-b27547ded164"
      },
      "execution_count": 4,
      "outputs": [
        {
          "output_type": "stream",
          "name": "stdout",
          "text": [
            "Becca, how are you today?\n",
            "connor, how is it transfering to a different college\n",
            "logan, how was the trip\n"
          ]
        }
      ]
    },
    {
      "cell_type": "code",
      "source": [
        "# TIY 3-3\n",
        "\n",
        "cars = ['WRX', 'vantage', 'R34', 'Audi quattro', 'Subaru outback', 'tesla', 'rivian']\n",
        "\n",
        "print(f'I want a 2004 {cars[0]}')\n",
        "print(f'The F1 {cars[1]} is cool')\n",
        "print(f'The {cars[2]} is a classic japanese car')\n",
        "print(f'The {cars[3]} is the best rally car')\n",
        "print(f'I drive a {cars[4]}')\n",
        "print(f'I would never own a {cars[5]}')\n",
        "print(f'{cars[6]} is the better electric brand')"
      ],
      "metadata": {
        "colab": {
          "base_uri": "https://localhost:8080/"
        },
        "id": "dL-vGDOY0sy6",
        "outputId": "759217fe-421f-432d-d93d-0600e9707540"
      },
      "execution_count": 7,
      "outputs": [
        {
          "output_type": "stream",
          "name": "stdout",
          "text": [
            "I want a 2004 WRX\n",
            "The F1 vantage is cool\n",
            "The R34 is a classic japanese car\n",
            "The Audi quattro is the best rally car\n",
            "I drive a Subaru outback\n",
            "I would never own a tesla\n",
            "rivian is the better electric brand\n"
          ]
        }
      ]
    },
    {
      "cell_type": "code",
      "source": [
        "# TIY 3-4\n",
        "\n",
        "invites = ['Donald glover', 'Jeremy Clarkson', 'Kentaro Miura']\n",
        "\n",
        "print(f'{invites[0]} Please come to my dinner party')\n",
        "print(f'{invites[1]} Please come to my dinner party')\n",
        "print(f'{invites[2]} Please come to my dinner party')"
      ],
      "metadata": {
        "colab": {
          "base_uri": "https://localhost:8080/"
        },
        "id": "aqcWVadz1TJ7",
        "outputId": "f7484a90-d492-406d-8d96-413e0a409a3a"
      },
      "execution_count": 8,
      "outputs": [
        {
          "output_type": "stream",
          "name": "stdout",
          "text": [
            "I want to invite Donald glover so I can talk about his current albums and future ones\n",
            "Jeremy Clarkson will be invited because hes funny\n",
            "I will ask Kentaro Miura how berserk ends\n"
          ]
        }
      ]
    },
    {
      "cell_type": "code",
      "source": [
        "# TIY 3-5\n",
        "\n",
        "invites = ['Donald glover', 'Jeremy Clarkson', 'Kentaro Miura']\n",
        "\n",
        "print(f'{invites[0]} Please come to my dinner party')\n",
        "print(f'{invites[1]} Please come to my dinner party')\n",
        "print(f'{invites[2]} Please come to my dinner party')\n",
        "\n",
        "print(f'\\n{invites[1]} cannot make it to the dinner')\n",
        "\n",
        "invites.insert(1, 'Richard hammond')\n",
        "print(f'\\n{invites[0]} Please come to my dinner party')\n",
        "print(f'{invites[1]} Please come to my dinner party')\n",
        "print(f'{invites[2]} Please come to my dinner party')"
      ],
      "metadata": {
        "colab": {
          "base_uri": "https://localhost:8080/"
        },
        "id": "Ujg8HrUK6SDa",
        "outputId": "259a4bb6-4604-4c18-a012-3cccf0861d12"
      },
      "execution_count": 11,
      "outputs": [
        {
          "output_type": "stream",
          "name": "stdout",
          "text": [
            "Donald glover Please come to my dinner party\n",
            "Jeremy Clarkson Please come to my dinner party\n",
            "Kentaro Miura Please come to my dinner party\n",
            "\n",
            "Jeremy Clarkson cannot make it to the dinner\n",
            "\n",
            "Donald glover Please come to my dinner party\n",
            "Richard hammond Please come to my dinner party\n",
            "Jeremy Clarkson Please come to my dinner party\n"
          ]
        }
      ]
    },
    {
      "cell_type": "code",
      "source": [
        "# TIY 3-6\n",
        "\n",
        "invites = ['Donald glover', 'Jeremy Clarkson', 'Kentaro Miura']\n",
        "\n",
        "print(f'{invites[0]} Please come to my dinner party')\n",
        "print(f'{invites[1]} Please come to my dinner party')\n",
        "print(f'{invites[2]} Please come to my dinner party')\n",
        "\n",
        "print(f'\\n{invites[1]} cannot make it to the dinner')\n",
        "\n",
        "invites.insert(1, 'Richard hammond')\n",
        "print(f'\\n{invites[0]} Please come to my dinner party')\n",
        "print(f'{invites[1]} Please come to my dinner party')\n",
        "print(f'{invites[2]} Please come to my dinner party')\n",
        "\n",
        "invites.insert(0, 'Andrew Garfield')\n",
        "invites.insert(2,'Eiichiro Oda')\n",
        "invites.append('Masayoshi takanaka')\n",
        "\n",
        "print(f'\\n{invites[0]} Please come to my dinner party')\n",
        "print(f'{invites[1]} Please come to my dinner party')\n",
        "print(f'{invites[2]} Please come to my dinner party')\n",
        "print(f'{invites[3]} Please come to my dinner party')\n",
        "print(f'{invites[4]} Please come to my dinner party')\n",
        "print(f'{invites[5]} Please come to my dinner party')"
      ],
      "metadata": {
        "colab": {
          "base_uri": "https://localhost:8080/"
        },
        "id": "3APf2AKW8a5N",
        "outputId": "0eabebf0-aacc-469e-a77f-1efe356e491b"
      },
      "execution_count": 12,
      "outputs": [
        {
          "output_type": "stream",
          "name": "stdout",
          "text": [
            "Donald glover Please come to my dinner party\n",
            "Jeremy Clarkson Please come to my dinner party\n",
            "Kentaro Miura Please come to my dinner party\n",
            "\n",
            "Jeremy Clarkson cannot make it to the dinner\n",
            "\n",
            "Donald glover Please come to my dinner party\n",
            "Richard hammond Please come to my dinner party\n",
            "Jeremy Clarkson Please come to my dinner party\n",
            "\n",
            "Andrew Garfield Please come to my dinner party\n",
            "Donald glover Please come to my dinner party\n",
            "Eiichiro Oda Please come to my dinner party\n",
            "Richard hammond Please come to my dinner party\n",
            "Jeremy Clarkson Please come to my dinner party\n",
            "Kentaro Miura Please come to my dinner party\n"
          ]
        }
      ]
    },
    {
      "cell_type": "code",
      "source": [
        "# TIY 3-7\n",
        "\n",
        "invites = ['Donald glover', 'Jeremy Clarkson', 'Kentaro Miura']\n",
        "\n",
        "print(f'{invites[0]} Please come to my dinner party')\n",
        "print(f'{invites[1]} Please come to my dinner party')\n",
        "print(f'{invites[2]} Please come to my dinner party')\n",
        "\n",
        "print(f'\\n{invites[1]} cannot make it to the dinner')\n",
        "\n",
        "invites.insert(1, 'Richard hammond')\n",
        "print(f'\\n{invites[0]} Please come to my dinner party')\n",
        "print(f'{invites[1]} Please come to my dinner party')\n",
        "print(f'{invites[2]} Please come to my dinner party')\n",
        "\n",
        "invites.insert(0, 'Andrew Garfield')\n",
        "invites.insert(2,'Eiichiro Oda')\n",
        "invites.append('Masayoshi takanaka')\n",
        "\n",
        "print(f'\\n{invites[0]} Please come to my dinner party')\n",
        "print(f'{invites[1]} Please come to my dinner party')\n",
        "print(f'{invites[2]} Please come to my dinner party')\n",
        "print(f'{invites[3]} Please come to my dinner party')\n",
        "print(f'{invites[4]} Please come to my dinner party')\n",
        "print(f'{invites[5]} Please come to my dinner party')\n",
        "\n",
        "print('\\nwe only have space for 2 people')\n",
        "\n",
        "print(f'\\nsorry {invites[0]} there is not enough space')\n",
        "invites.pop(0)\n",
        "print(f'sorry {invites[0]} there is not enough space')\n",
        "invites.pop(0)\n",
        "print(f'sorry {invites[0]} there is not enough space')\n",
        "invites.pop(0)\n",
        "print(f'sorry {invites[0]} there is not enough space')\n",
        "invites.pop(0)\n",
        "print(f'please come for dinner {invites[0]}')\n",
        "print(f'please come for dinner {invites[1]}')"
      ],
      "metadata": {
        "colab": {
          "base_uri": "https://localhost:8080/"
        },
        "id": "FZdMJeos9cJj",
        "outputId": "ae2cdddf-6cbc-4243-a64d-0a7f5161b941"
      },
      "execution_count": 15,
      "outputs": [
        {
          "output_type": "stream",
          "name": "stdout",
          "text": [
            "Donald glover Please come to my dinner party\n",
            "Jeremy Clarkson Please come to my dinner party\n",
            "Kentaro Miura Please come to my dinner party\n",
            "\n",
            "Jeremy Clarkson cannot make it to the dinner\n",
            "\n",
            "Donald glover Please come to my dinner party\n",
            "Richard hammond Please come to my dinner party\n",
            "Jeremy Clarkson Please come to my dinner party\n",
            "\n",
            "Andrew Garfield Please come to my dinner party\n",
            "Donald glover Please come to my dinner party\n",
            "Eiichiro Oda Please come to my dinner party\n",
            "Richard hammond Please come to my dinner party\n",
            "Jeremy Clarkson Please come to my dinner party\n",
            "Kentaro Miura Please come to my dinner party\n",
            "\n",
            "we only have space for 2 people\n",
            "\n",
            "sorry Andrew Garfield there is not enough space\n",
            "sorry Donald glover there is not enough space\n",
            "sorry Eiichiro Oda there is not enough space\n",
            "sorry Richard hammond there is not enough space\n",
            "please come for dinner Jeremy Clarkson\n",
            "please come for dinner Kentaro Miura\n"
          ]
        }
      ]
    },
    {
      "cell_type": "code",
      "source": [
        "# TIY 3-8\n",
        "\n",
        "vacations = ['hawaii', 'japan', 'Grand teton', 'red woods', 'Australia']\n",
        "\n",
        "print('this is the original order')\n",
        "print(vacations)\n",
        "\n",
        "print('\\nthis is in alphabetical order')\n",
        "print(sorted(vacations))\n",
        "\n",
        "print('\\nthis is the original order')\n",
        "print(vacations)\n",
        "\n",
        "print('\\nthis is in reverse alphabetical order')\n",
        "print(sorted(vacations, reverse=True))\n",
        "\n",
        "print('\\nthis is the original order')\n",
        "print(vacations)\n",
        "\n",
        "print('\\nthis is the order in reverse')\n",
        "vacations.reverse()\n",
        "print(vacations)\n",
        "\n",
        "print('\\nthis is the original order')\n",
        "print(vacations)\n",
        "\n",
        "print('\\nthis is in alphabetical order')\n",
        "vacations.sort()\n",
        "print(vacations)\n",
        "\n",
        "print(\"\\nthis is in reverse alphabetical order\")\n",
        "vacations.sort(reverse=True)\n",
        "print(vacations)"
      ],
      "metadata": {
        "colab": {
          "base_uri": "https://localhost:8080/"
        },
        "id": "jsX8ueO6AbCl",
        "outputId": "05472a67-ee7e-4ad9-dc0a-a4f1bb790493"
      },
      "execution_count": 17,
      "outputs": [
        {
          "output_type": "stream",
          "name": "stdout",
          "text": [
            "this is the original order\n",
            "['hawaii', 'japan', 'Grand teton', 'red woods', 'Australia']\n",
            "\n",
            "this is in alphabetical order\n",
            "['Australia', 'Grand teton', 'hawaii', 'japan', 'red woods']\n",
            "\n",
            "this is the original order\n",
            "['hawaii', 'japan', 'Grand teton', 'red woods', 'Australia']\n",
            "\n",
            "this is in reverse alphabetical order\n",
            "['red woods', 'japan', 'hawaii', 'Grand teton', 'Australia']\n",
            "\n",
            "this is the original order\n",
            "['hawaii', 'japan', 'Grand teton', 'red woods', 'Australia']\n",
            "\n",
            "this is the order in reverse\n",
            "['Australia', 'red woods', 'Grand teton', 'japan', 'hawaii']\n",
            "\n",
            "this is the original order\n",
            "['Australia', 'red woods', 'Grand teton', 'japan', 'hawaii']\n",
            "\n",
            "this is in alphabetical order\n",
            "['Australia', 'Grand teton', 'hawaii', 'japan', 'red woods']\n",
            "\n",
            "this is in reverse alphabetical order\n",
            "['red woods', 'japan', 'hawaii', 'Grand teton', 'Australia']\n"
          ]
        }
      ]
    },
    {
      "cell_type": "code",
      "source": [
        "# TIY 3-9\n",
        "\n",
        "invites = ['Donald glover', 'Jeremy Clarkson', 'Kentaro Miura']\n",
        "\n",
        "print(f'{invites[0]} Please come to my dinner party')\n",
        "print(f'{invites[1]} Please come to my dinner party')\n",
        "print(f'{invites[2]} Please come to my dinner party')\n",
        "\n",
        "print(f'\\n{len(invites)} people will be invited to the party')"
      ],
      "metadata": {
        "colab": {
          "base_uri": "https://localhost:8080/"
        },
        "id": "fEF9aWhmDIZz",
        "outputId": "28aab5a4-fc6f-4b65-9fa1-f85dc8b520c9"
      },
      "execution_count": 20,
      "outputs": [
        {
          "output_type": "stream",
          "name": "stdout",
          "text": [
            "Donald glover Please come to my dinner party\n",
            "Jeremy Clarkson Please come to my dinner party\n",
            "Kentaro Miura Please come to my dinner party\n",
            "\n",
            "3 people will be invited to the party\n"
          ]
        }
      ]
    },
    {
      "cell_type": "code",
      "source": [
        "# TIY 3-10\n",
        "\n",
        "animes = ['vinland saga', 'attack on titan', 'vagabond']\n",
        "\n",
        "print(animes)\n",
        "\n",
        "print(f'\\n{animes[0]}')\n",
        "\n",
        "del(animes[1])\n",
        "animes.insert(1, 'berserk')\n",
        "animes.append('eighty six')\n",
        "\n",
        "print('\\nthis is the new list')\n",
        "print(animes)\n",
        "\n",
        "animes.pop(0)\n",
        "\n",
        "print('\\nlist put in alphabetical order')\n",
        "print(sorted(animes))\n",
        "\n",
        "print('\\nlist put in reverse alphabetical order')\n",
        "print(sorted(animes, reverse=True))\n"
      ],
      "metadata": {
        "colab": {
          "base_uri": "https://localhost:8080/"
        },
        "id": "aOVD6IQjEwu6",
        "outputId": "a9934fb4-c344-456c-89ea-f999ddbaa16c"
      },
      "execution_count": 25,
      "outputs": [
        {
          "output_type": "stream",
          "name": "stdout",
          "text": [
            "['vinland saga', 'attack on titan', 'vagabond']\n",
            "\n",
            "vinland saga\n",
            "\n",
            "this is the new list\n",
            "['vinland saga', 'berserk', 'vagabond', 'eighty six']\n",
            "\n",
            "list put in alphabetical order\n",
            "['berserk', 'eighty six', 'vagabond']\n",
            "\n",
            "list put in reverse alphabetical order\n",
            "['vagabond', 'eighty six', 'berserk']\n"
          ]
        }
      ]
    }
  ]
}