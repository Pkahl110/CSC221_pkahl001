{
  "nbformat": 4,
  "nbformat_minor": 0,
  "metadata": {
    "colab": {
      "provenance": [],
      "authorship_tag": "ABX9TyM5GLGQ/V+krzl878qR9GG6",
      "include_colab_link": true
    },
    "kernelspec": {
      "name": "python3",
      "display_name": "Python 3"
    },
    "language_info": {
      "name": "python"
    }
  },
  "cells": [
    {
      "cell_type": "markdown",
      "metadata": {
        "id": "view-in-github",
        "colab_type": "text"
      },
      "source": [
        "<a href=\"https://colab.research.google.com/github/Pkahl110/CSC221_pkahl001/blob/main/Assignment6.ipynb\" target=\"_parent\"><img src=\"https://colab.research.google.com/assets/colab-badge.svg\" alt=\"Open In Colab\"/></a>"
      ]
    },
    {
      "cell_type": "code",
      "source": [
        "#TIY 5-1\n",
        "\n",
        "#test 1, numbers\n",
        "number = '5'\n",
        "\n",
        "print(f'is number == {number}? I predict True')\n",
        "print(number == '5')\n",
        "\n",
        "print(f'\\nis number == {number}? I predict False')\n",
        "print(number == '10')\n",
        "\n",
        "#test 2, buildings\n",
        "building = 'House'\n",
        "\n",
        "print(f'\\nis the building == {building}? I predict True')\n",
        "print(building == 'House')\n",
        "\n",
        "print(f'\\nis the building == {building}? I predict False')\n",
        "print(building == 'Appartment')\n",
        "\n",
        "#test 3, animals\n",
        "animals = 'dog'\n",
        "\n",
        "print(f'\\nis the animal == {animals}? I predict True')\n",
        "print(animals == 'dog')\n",
        "\n",
        "print(f'\\nis the animal == {animals}? I predict False')\n",
        "print(animals == 'cat')\n",
        "\n",
        "#test 4, body part\n",
        "body = 'arm'\n",
        "\n",
        "print(f'\\nis the body part == {body}? I predict True')\n",
        "print(body == 'arm')\n",
        "\n",
        "print(f'\\nis the body part == {body}? I predict False')\n",
        "print(body == 'leg')\n",
        "\n",
        "#test 5, people\n",
        "people = 'guts'\n",
        "\n",
        "print(f'\\nis the person == {people}? I predict True')\n",
        "print(people == 'guts')\n",
        "\n",
        "print(f'\\nis the person == {people}? I predict False')\n",
        "print(people == 'griffith')"
      ],
      "metadata": {
        "colab": {
          "base_uri": "https://localhost:8080/"
        },
        "id": "3GuuDp8mnn66",
        "outputId": "198403df-6712-401f-8346-2cbc7e553975"
      },
      "execution_count": null,
      "outputs": [
        {
          "output_type": "stream",
          "name": "stdout",
          "text": [
            "is number == 5? I predict True\n",
            "True\n",
            "\n",
            "is number == 5? I predict False\n",
            "False\n",
            "\n",
            "is the building == House? I predict True\n",
            "True\n",
            "\n",
            "is the building == House? I predict False\n",
            "False\n",
            "\n",
            "is the animal == dog? I predict True\n",
            "True\n",
            "\n",
            "is the animal == dog? I predict False\n",
            "False\n",
            "\n",
            "is the body part == arm? I predict True\n",
            "True\n",
            "\n",
            "is the body part == arm? I predict False\n",
            "False\n",
            "\n",
            "is the person == guts? I predict True\n",
            "True\n",
            "\n",
            "is the person == guts? I predict False\n",
            "False\n"
          ]
        }
      ]
    },
    {
      "cell_type": "code",
      "source": [
        "#TIY 5-3\n",
        "\n",
        "alien_color = 'green'\n",
        "\n",
        "if alien_color == 'green':\n",
        "  print('you earned 5 points!')\n",
        "\n",
        "alien_color2 = 'red'\n",
        "\n",
        "if alien_color2 == 'green':\n",
        "  print('you earned 5 point!')"
      ],
      "metadata": {
        "colab": {
          "base_uri": "https://localhost:8080/"
        },
        "id": "p_RcMaSXsIWP",
        "outputId": "8ba31ea7-205a-472c-ae03-1775b7c9f18d"
      },
      "execution_count": null,
      "outputs": [
        {
          "output_type": "stream",
          "name": "stdout",
          "text": [
            "you earned 5 points!\n"
          ]
        }
      ]
    },
    {
      "cell_type": "code",
      "source": [
        "#TIY 5-4\n",
        "\n",
        "alien_color = 'green'\n",
        "\n",
        "if alien_color == 'green':\n",
        "  print('you earned 5 points!')\n",
        "else:\n",
        "  print('you earned 10 points!')"
      ],
      "metadata": {
        "colab": {
          "base_uri": "https://localhost:8080/"
        },
        "id": "0Qo9iJqxtW3P",
        "outputId": "b55eb71a-51ca-4450-9cbe-91b29acbf126"
      },
      "execution_count": null,
      "outputs": [
        {
          "output_type": "stream",
          "name": "stdout",
          "text": [
            "you earned 5 points!\n"
          ]
        }
      ]
    },
    {
      "cell_type": "code",
      "source": [
        "#TIY 5-4\n",
        "\n",
        "alien_color = 'blue'\n",
        "\n",
        "if alien_color == 'green':\n",
        "  print('you earned 5 points!')\n",
        "else:\n",
        "  print('you earned 10 points!')"
      ],
      "metadata": {
        "colab": {
          "base_uri": "https://localhost:8080/"
        },
        "id": "HT6SF4thuMKN",
        "outputId": "1b7b2c48-96d2-44d0-9835-32ff9b8a905d"
      },
      "execution_count": null,
      "outputs": [
        {
          "output_type": "stream",
          "name": "stdout",
          "text": [
            "you earned 10 points!\n"
          ]
        }
      ]
    },
    {
      "cell_type": "code",
      "source": [
        "#TIY 5-6\n",
        "\n",
        "print('Hello, please type in your age.')\n",
        "age = int(input())\n",
        "\n",
        "if age < 2:\n",
        "  print('you are a baby')\n",
        "elif age < 4:\n",
        "  print('you are a toddler')\n",
        "elif age < 13:\n",
        "  print('you are a kid')\n",
        "elif age < 20:\n",
        "  print('you are a teenager')\n",
        "elif age <= 65:\n",
        "  print('you are a adult')\n",
        "else:\n",
        "  print('you are a elder')"
      ],
      "metadata": {
        "id": "UaYbFAFuuQHQ",
        "colab": {
          "base_uri": "https://localhost:8080/"
        },
        "outputId": "0d8c59a3-4f0d-46b8-b1cd-b96d5d8bd3cf"
      },
      "execution_count": 8,
      "outputs": [
        {
          "output_type": "stream",
          "name": "stdout",
          "text": [
            "Hello, please type in your age.\n",
            "1231244323412\n",
            "you are a elder\n"
          ]
        }
      ]
    },
    {
      "cell_type": "code",
      "source": [
        "#TIY 5-13\n",
        "\n",
        "print('Type what year you graduated highschool')\n",
        "year = int(input())\n",
        "\n",
        "if year == 2023:\n",
        "  print('you are 18 years old')\n",
        "elif year == 2022:\n",
        "  print('you are 19 years old')\n",
        "elif year == 2021 :\n",
        "  print('you are 20 years old')\n",
        "elif year == 2020:\n",
        "  print('you are 21 years old')\n",
        "elif year == 2019:\n",
        "  print('you are 22 years old')\n",
        "else:\n",
        "  print('you are old')"
      ],
      "metadata": {
        "colab": {
          "base_uri": "https://localhost:8080/"
        },
        "id": "nyEV6whnxP1m",
        "outputId": "95fa06ce-1c46-47fe-e696-1b4dd7a02c40"
      },
      "execution_count": 10,
      "outputs": [
        {
          "output_type": "stream",
          "name": "stdout",
          "text": [
            "Type what year you graduated highschool\n",
            "2022\n",
            "you are 19 years old\n"
          ]
        }
      ]
    }
  ]
}