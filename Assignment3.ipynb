{
  "nbformat": 4,
  "nbformat_minor": 0,
  "metadata": {
    "colab": {
      "provenance": [],
      "authorship_tag": "ABX9TyPdMiDTeITwkxG+hLN4ElU8",
      "include_colab_link": true
    },
    "kernelspec": {
      "name": "python3",
      "display_name": "Python 3"
    },
    "language_info": {
      "name": "python"
    }
  },
  "cells": [
    {
      "cell_type": "markdown",
      "metadata": {
        "id": "view-in-github",
        "colab_type": "text"
      },
      "source": [
        "<a href=\"https://colab.research.google.com/github/Pkahl110/CSC221_pkahl001/blob/main/Assignment3.ipynb\" target=\"_parent\"><img src=\"https://colab.research.google.com/assets/colab-badge.svg\" alt=\"Open In Colab\"/></a>"
      ]
    },
    {
      "cell_type": "code",
      "execution_count": 1,
      "metadata": {
        "colab": {
          "base_uri": "https://localhost:8080/"
        },
        "id": "59UGB2LiPKFE",
        "outputId": "5a31bd1e-c8ce-41b2-e1ec-d4c70609a4ac"
      },
      "outputs": [
        {
          "output_type": "stream",
          "name": "stdout",
          "text": [
            "hello my name is Paul Kahl\n"
          ]
        }
      ],
      "source": [
        "# TIY 2-1\n",
        "\n",
        "message = 'hello my name is Paul Kahl'\n",
        "\n",
        "print(message)"
      ]
    },
    {
      "cell_type": "code",
      "source": [
        "# TIY 2-2\n",
        "\n",
        "message = 'hello my name is totally not Paul Kahl'\n",
        "\n",
        "print(message)"
      ],
      "metadata": {
        "colab": {
          "base_uri": "https://localhost:8080/"
        },
        "id": "7w5m4mY6Qb0q",
        "outputId": "8ab9e8b9-d51a-41d6-a140-c96539cc1125"
      },
      "execution_count": 2,
      "outputs": [
        {
          "output_type": "stream",
          "name": "stdout",
          "text": [
            "hello my name is totally not Paul Kahl\n"
          ]
        }
      ]
    },
    {
      "cell_type": "code",
      "source": [
        "# TIY 2-3\n",
        "\n",
        "name = 'Paul'\n",
        "\n",
        "print(f'hello {name} would you like to learn some python today?')"
      ],
      "metadata": {
        "colab": {
          "base_uri": "https://localhost:8080/"
        },
        "id": "qMQlqIFNRe5f",
        "outputId": "dd479d20-9a73-4a56-bd18-5a11851b2051"
      },
      "execution_count": 3,
      "outputs": [
        {
          "output_type": "stream",
          "name": "stdout",
          "text": [
            "hello Paul would you like to learn some python today?\n"
          ]
        }
      ]
    },
    {
      "cell_type": "code",
      "source": [
        "# TIY 2-4\n",
        "\n",
        "name = 'pAul kaHl'\n",
        "\n",
        "print(name.lower())\n",
        "\n",
        "print(name.upper())\n",
        "\n",
        "print(name.title())"
      ],
      "metadata": {
        "colab": {
          "base_uri": "https://localhost:8080/"
        },
        "id": "TkD5C7UgRv8K",
        "outputId": "8dd8b436-3c8c-4ab9-e543-cb0b08bf164e"
      },
      "execution_count": 10,
      "outputs": [
        {
          "output_type": "stream",
          "name": "stdout",
          "text": [
            "paul kahl\n",
            "PAUL KAHL\n",
            "Paul Kahl\n"
          ]
        }
      ]
    },
    {
      "cell_type": "code",
      "source": [
        "# TIY 2-5\n",
        "\n",
        "print('sun tzu said, \"he will win who knows when to fight and when not to fight\"')"
      ],
      "metadata": {
        "colab": {
          "base_uri": "https://localhost:8080/"
        },
        "id": "yfmds5WhSz_m",
        "outputId": "1a9c60f7-41a8-4d8c-88f0-ea3f8574bc8c"
      },
      "execution_count": 13,
      "outputs": [
        {
          "output_type": "stream",
          "name": "stdout",
          "text": [
            "sun tzu said, \"he will win who knows when to fight and when not to fight\"\n"
          ]
        }
      ]
    },
    {
      "cell_type": "code",
      "source": [
        "# TIY 2-6\n",
        "\n",
        "famous_person = 'Sun Tzu'\n",
        "\n",
        "print(f'{famous_person} once said, \"he will win who knows when to fight and when not to fight\"')"
      ],
      "metadata": {
        "colab": {
          "base_uri": "https://localhost:8080/"
        },
        "id": "wH5DzO67T2Ss",
        "outputId": "d20853c8-3e0d-4fad-f387-499208236eae"
      },
      "execution_count": 15,
      "outputs": [
        {
          "output_type": "stream",
          "name": "stdout",
          "text": [
            "Sun Tzu once said, \"he will win who knows when to fight and when not to fight\"\n"
          ]
        }
      ]
    },
    {
      "cell_type": "code",
      "source": [
        "# TIY 2-7\n",
        "\n",
        "name = '\\t \\n Paul Kahl \\n'\n",
        "print(name)\n",
        "\n",
        "print(name.lstrip())\n",
        "\n",
        "print(name.rstrip())\n",
        "\n",
        "print(name.strip())"
      ],
      "metadata": {
        "colab": {
          "base_uri": "https://localhost:8080/"
        },
        "id": "MccEP0wzUxAG",
        "outputId": "62178b30-097f-4933-b8a2-2e08f5571a37"
      },
      "execution_count": 21,
      "outputs": [
        {
          "output_type": "stream",
          "name": "stdout",
          "text": [
            "\t \n",
            " Paul Kahl \n",
            "\n",
            "Paul Kahl \n",
            "\n",
            "\t \n",
            " Paul Kahl\n",
            "Paul Kahl\n"
          ]
        }
      ]
    },
    {
      "cell_type": "code",
      "source": [
        "# TIY 2-8\n",
        "\n",
        "filename = 'python_notes.txt'\n",
        "\n",
        "print(filename.removesuffix('.txt'))"
      ],
      "metadata": {
        "colab": {
          "base_uri": "https://localhost:8080/"
        },
        "id": "ItzUuX34YwHl",
        "outputId": "4018c377-81ff-4415-c32c-e8521f3e5939"
      },
      "execution_count": 24,
      "outputs": [
        {
          "output_type": "stream",
          "name": "stdout",
          "text": [
            "python_notes\n"
          ]
        }
      ]
    },
    {
      "cell_type": "code",
      "source": [
        "# TIY 2-9\n",
        "\n",
        "#2-11 Paul Kahl 2/8/24, this program prints 4 math operations being addition, subtraction, multiplication, division\n",
        "\n",
        "print(5+3)\n",
        "\n",
        "print(10-2)\n",
        "\n",
        "print(4*2)\n",
        "\n",
        "print(16//2)"
      ],
      "metadata": {
        "colab": {
          "base_uri": "https://localhost:8080/"
        },
        "id": "GVUfM9QwZn6b",
        "outputId": "87a210f4-24dc-47ad-d96f-779dbb062a2e"
      },
      "execution_count": 26,
      "outputs": [
        {
          "output_type": "stream",
          "name": "stdout",
          "text": [
            "8\n",
            "8\n",
            "8\n",
            "8\n"
          ]
        }
      ]
    },
    {
      "cell_type": "code",
      "source": [
        "# TIY 2-10\n",
        "\n",
        "#2-11 Paul Kahl 2/8/2024, this program has a variable as a number then prints it with the f command\n",
        "\n",
        "fav_number = '55'\n",
        "\n",
        "print(f'my favorite number is {fav_number}')"
      ],
      "metadata": {
        "colab": {
          "base_uri": "https://localhost:8080/"
        },
        "id": "3H4bU8imaL0J",
        "outputId": "8e54e95a-11f1-4a9d-b9d2-300d15942144"
      },
      "execution_count": 27,
      "outputs": [
        {
          "output_type": "stream",
          "name": "stdout",
          "text": [
            "my favorite number is 55\n"
          ]
        }
      ]
    }
  ]
}