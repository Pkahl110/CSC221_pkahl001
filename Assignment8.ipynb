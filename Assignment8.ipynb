{
  "nbformat": 4,
  "nbformat_minor": 0,
  "metadata": {
    "colab": {
      "provenance": [],
      "authorship_tag": "ABX9TyPH3GE6A2+RqJHGfcNvXST/",
      "include_colab_link": true
    },
    "kernelspec": {
      "name": "python3",
      "display_name": "Python 3"
    },
    "language_info": {
      "name": "python"
    }
  },
  "cells": [
    {
      "cell_type": "markdown",
      "metadata": {
        "id": "view-in-github",
        "colab_type": "text"
      },
      "source": [
        "<a href=\"https://colab.research.google.com/github/Pkahl110/CSC221_pkahl001/blob/main/Assignment8.ipynb\" target=\"_parent\"><img src=\"https://colab.research.google.com/assets/colab-badge.svg\" alt=\"Open In Colab\"/></a>"
      ]
    },
    {
      "cell_type": "code",
      "execution_count": 1,
      "metadata": {
        "colab": {
          "base_uri": "https://localhost:8080/"
        },
        "id": "g-dRTtT_tXLE",
        "outputId": "cbd4d4e7-6806-445f-f95b-21ac68637ae3"
      },
      "outputs": [
        {
          "output_type": "stream",
          "name": "stdout",
          "text": [
            "Berserk is one of my favorite books.\n"
          ]
        }
      ],
      "source": [
        "#TIY 8-2\n",
        "\n",
        "def favorite_book(title):\n",
        "    print(f\"{title} is one of my favorite books.\")\n",
        "\n",
        "favorite_book('Berserk')"
      ]
    },
    {
      "cell_type": "code",
      "source": [
        "#TIY 8-3\n",
        "\n",
        "def make_shirt(size, message):\n",
        "    print(f\"\\nI want a {size} t-shirt.\")\n",
        "    print(f'The shirt will say\"{message}\"')\n",
        "\n",
        "make_shirt('large', 'Im scared of women!')\n",
        "make_shirt(message=\"that was a lie.\", size='medium')"
      ],
      "metadata": {
        "colab": {
          "base_uri": "https://localhost:8080/"
        },
        "id": "3kd0HpDKu2tX",
        "outputId": "f69f79d2-4db1-4a6f-d5de-b53581033192"
      },
      "execution_count": 3,
      "outputs": [
        {
          "output_type": "stream",
          "name": "stdout",
          "text": [
            "\n",
            "I want a large t-shirt.\n",
            "The shirt will say\"Im scared of women!\"\n",
            "\n",
            "I want a medium t-shirt.\n",
            "The shirt will say\"that was a lie.\"\n"
          ]
        }
      ]
    },
    {
      "cell_type": "code",
      "source": [
        "#TIY 8-4\n",
        "\n",
        "def make_shirt(size='large', message='Im scared of women'):\n",
        "    print(f\"\\nI want a {size} t-shirt.\")\n",
        "    print(f'The shirt will say\"{message}\"')\n",
        "\n",
        "make_shirt()\n",
        "make_shirt(size='medium')\n",
        "make_shirt('small', 'that was a lie.')"
      ],
      "metadata": {
        "colab": {
          "base_uri": "https://localhost:8080/"
        },
        "id": "CCs1pAVuw8Px",
        "outputId": "5fdc07fe-04ea-4414-f1ca-b02292a7fd34"
      },
      "execution_count": 5,
      "outputs": [
        {
          "output_type": "stream",
          "name": "stdout",
          "text": [
            "\n",
            "I want a large t-shirt.\n",
            "The shirt will say\"Im scared of women\"\n",
            "\n",
            "I want a medium t-shirt.\n",
            "The shirt will say\"Im scared of women\"\n",
            "\n",
            "I want a small t-shirt.\n",
            "The shirt will say\"that was a lie.\"\n"
          ]
        }
      ]
    },
    {
      "cell_type": "code",
      "source": [
        "def func8(a, b, c=42):\n",
        "    total_sum = a + b + c\n",
        "\n",
        "    product = a * b * c\n",
        "\n",
        "    numbers = [a, b, c]\n",
        "    numbers.sort()\n",
        "\n",
        "    return total_sum, product, numbers\n",
        "\n",
        "result1 = func8(3, 5)\n",
        "result2 = func8(3, 5, 7)\n",
        "\n",
        "print(\"Test 1:\")\n",
        "print(\"Sum:\", result1[0])\n",
        "print(\"Product:\", result1[1])\n",
        "print(\"Sorted Numbers:\", result1[2])\n",
        "print()\n",
        "\n",
        "print(\"Test 2:\")\n",
        "print(\"Sum:\", result2[0])\n",
        "print(\"Product:\", result2[1])"
      ],
      "metadata": {
        "id": "gSkMqXgK0QsU"
      },
      "execution_count": null,
      "outputs": []
    }
  ]
}